{
  "nbformat": 4,
  "nbformat_minor": 0,
  "metadata": {
    "colab": {
      "provenance": [],
      "authorship_tag": "ABX9TyNmEywdCs7QvH8FbHe39DVv",
      "include_colab_link": true
    },
    "kernelspec": {
      "name": "python3",
      "display_name": "Python 3"
    },
    "language_info": {
      "name": "python"
    }
  },
  "cells": [
    {
      "cell_type": "markdown",
      "metadata": {
        "id": "view-in-github",
        "colab_type": "text"
      },
      "source": [
        "<a href=\"https://colab.research.google.com/github/Jang-Sohyun/IT-Bussiness-2022/blob/main/%EA%B3%BC%EC%A0%9C2_%EB%B6%84%EB%A5%98%EA%B3%BC%EC%A0%9C.ipynb\" target=\"_parent\"><img src=\"https://colab.research.google.com/assets/colab-badge.svg\" alt=\"Open In Colab\"/></a>"
      ]
    },
    {
      "cell_type": "markdown",
      "source": [
        "#1. 분류 문제 선정\n",
        "- 종속변수: 비만여부(비만이면 1, 아니면 0 2가지 클래스로 분류)\n",
        "- 독립변수: 음주여부, 흡연상태, 연령, 성별, 허리둘레, 공복혈당, HDL, LDL, 수축기혈압, 이완기혈압 (이전 시각화과제에서 비만도와 연관이 있을 것이라 생각한 요인을 독립변수로 함.)\n",
        "\n",
        "\n",
        "> 독립변수들에 따른 비만 여부를 분류 모델을 사용하여 예측하고자 함.\n",
        "\n"
      ],
      "metadata": {
        "id": "fAfWUfFonQFZ"
      }
    },
    {
      "cell_type": "markdown",
      "source": [
        "#2. 데이터 전처리\n",
        "기존 시각화 과정에서 사용한 전처리 파일을 기반으로 엑셀을 활용하여 분류모델에 맞게 데이터 전처리를 진행함.\n",
        "\n",
        "\n",
        "1.   필요없는 변수 삭제: 가입자일련번호, 시도코드, 신장, 체중, 총콜레스테롤, 트리글리세라이드, 혈색소, 혈청크레아티닌\n",
        "2.   BMI 수치로 추정한 비만도를 기준으로 비만여부라는 새로운 파생변수 생성: 비만도가 obesity인 경우 1, 나머지(underweight, normal, overweight)는 0으로 구분하여 종속변수로 사용.\n",
        "3.   분류 모델 생성에 용이하도록 변수들의 순서변경 및 변수들의 이름을 영어로 변경\n",
        "4.   Yes, No로 구분되어 있는 변수를 수치형으로 변경: Yes = 1, No = 0(성별의 경우 M = 0, W = 1)\n",
        "\n",
        "\n",
        "\n",
        "\n",
        "\n"
      ],
      "metadata": {
        "id": "2W2cx3IQqeOz"
      }
    },
    {
      "cell_type": "code",
      "execution_count": null,
      "metadata": {
        "colab": {
          "base_uri": "https://localhost:8080/"
        },
        "id": "cT7B4M9ynMzf",
        "outputId": "ed44a929-01dd-40a5-9ffc-9005fb771a6b"
      },
      "outputs": [
        {
          "output_type": "stream",
          "name": "stdout",
          "text": [
            "Mounted at /content/drive\n"
          ]
        }
      ],
      "source": [
        "from google.colab import drive\n",
        "drive.mount('/content/drive')"
      ]
    },
    {
      "cell_type": "code",
      "source": [
        "import pandas as pd\n",
        "\n",
        "health = pd.read_csv(\"/content/drive/MyDrive/IT비즈니스혁신/과제2/health_data_분류모델전처리.csv\")\n",
        "\n",
        "display(health.head(10))\n",
        "print(health.info())"
      ],
      "metadata": {
        "colab": {
          "base_uri": "https://localhost:8080/",
          "height": 708
        },
        "id": "DlYf4L08vJJN",
        "outputId": "67447754-fd28-40c4-ad36-5fe1bd3ef153"
      },
      "execution_count": null,
      "outputs": [
        {
          "output_type": "display_data",
          "data": {
            "text/plain": [
              "   obesity  gender  age  waist  BP_High  BP_LWST   BLDS   HDL    LDL  smoke  \\\n",
              "0        0       0    9   72.1    127.0     79.0   90.0  58.0  118.0      0   \n",
              "1        1       1   13   81.0    110.0     73.0   87.0   NaN    NaN      0   \n",
              "2        0       1   12   70.0    123.0     80.0  102.0   NaN    NaN      0   \n",
              "3        1       0   13   90.8    134.0     84.0  146.0   NaN    NaN      0   \n",
              "4        0       1   12   75.2    144.0     89.0  110.0  53.0  133.0      0   \n",
              "5        0       0    9   94.0    114.0     72.0   86.0  50.0  147.0      1   \n",
              "6        1       0    9   93.0    112.0     73.0  250.0  26.0   40.0      1   \n",
              "7        1       0   13   92.0    131.0     79.0   93.0   NaN    NaN      1   \n",
              "8        0       1   17   82.0    136.0     65.0  104.0  63.0  101.0      0   \n",
              "9        0       1   14   71.2    124.0     83.0   85.0   NaN    NaN      0   \n",
              "\n",
              "   alcohol  \n",
              "0        0  \n",
              "1        0  \n",
              "2        0  \n",
              "3        0  \n",
              "4        0  \n",
              "5        1  \n",
              "6        1  \n",
              "7        0  \n",
              "8        0  \n",
              "9        0  "
            ],
            "text/html": [
              "\n",
              "  <div id=\"df-91ebe405-3716-48cf-a3e9-95a79c8b10fe\">\n",
              "    <div class=\"colab-df-container\">\n",
              "      <div>\n",
              "<style scoped>\n",
              "    .dataframe tbody tr th:only-of-type {\n",
              "        vertical-align: middle;\n",
              "    }\n",
              "\n",
              "    .dataframe tbody tr th {\n",
              "        vertical-align: top;\n",
              "    }\n",
              "\n",
              "    .dataframe thead th {\n",
              "        text-align: right;\n",
              "    }\n",
              "</style>\n",
              "<table border=\"1\" class=\"dataframe\">\n",
              "  <thead>\n",
              "    <tr style=\"text-align: right;\">\n",
              "      <th></th>\n",
              "      <th>obesity</th>\n",
              "      <th>gender</th>\n",
              "      <th>age</th>\n",
              "      <th>waist</th>\n",
              "      <th>BP_High</th>\n",
              "      <th>BP_LWST</th>\n",
              "      <th>BLDS</th>\n",
              "      <th>HDL</th>\n",
              "      <th>LDL</th>\n",
              "      <th>smoke</th>\n",
              "      <th>alcohol</th>\n",
              "    </tr>\n",
              "  </thead>\n",
              "  <tbody>\n",
              "    <tr>\n",
              "      <th>0</th>\n",
              "      <td>0</td>\n",
              "      <td>0</td>\n",
              "      <td>9</td>\n",
              "      <td>72.1</td>\n",
              "      <td>127.0</td>\n",
              "      <td>79.0</td>\n",
              "      <td>90.0</td>\n",
              "      <td>58.0</td>\n",
              "      <td>118.0</td>\n",
              "      <td>0</td>\n",
              "      <td>0</td>\n",
              "    </tr>\n",
              "    <tr>\n",
              "      <th>1</th>\n",
              "      <td>1</td>\n",
              "      <td>1</td>\n",
              "      <td>13</td>\n",
              "      <td>81.0</td>\n",
              "      <td>110.0</td>\n",
              "      <td>73.0</td>\n",
              "      <td>87.0</td>\n",
              "      <td>NaN</td>\n",
              "      <td>NaN</td>\n",
              "      <td>0</td>\n",
              "      <td>0</td>\n",
              "    </tr>\n",
              "    <tr>\n",
              "      <th>2</th>\n",
              "      <td>0</td>\n",
              "      <td>1</td>\n",
              "      <td>12</td>\n",
              "      <td>70.0</td>\n",
              "      <td>123.0</td>\n",
              "      <td>80.0</td>\n",
              "      <td>102.0</td>\n",
              "      <td>NaN</td>\n",
              "      <td>NaN</td>\n",
              "      <td>0</td>\n",
              "      <td>0</td>\n",
              "    </tr>\n",
              "    <tr>\n",
              "      <th>3</th>\n",
              "      <td>1</td>\n",
              "      <td>0</td>\n",
              "      <td>13</td>\n",
              "      <td>90.8</td>\n",
              "      <td>134.0</td>\n",
              "      <td>84.0</td>\n",
              "      <td>146.0</td>\n",
              "      <td>NaN</td>\n",
              "      <td>NaN</td>\n",
              "      <td>0</td>\n",
              "      <td>0</td>\n",
              "    </tr>\n",
              "    <tr>\n",
              "      <th>4</th>\n",
              "      <td>0</td>\n",
              "      <td>1</td>\n",
              "      <td>12</td>\n",
              "      <td>75.2</td>\n",
              "      <td>144.0</td>\n",
              "      <td>89.0</td>\n",
              "      <td>110.0</td>\n",
              "      <td>53.0</td>\n",
              "      <td>133.0</td>\n",
              "      <td>0</td>\n",
              "      <td>0</td>\n",
              "    </tr>\n",
              "    <tr>\n",
              "      <th>5</th>\n",
              "      <td>0</td>\n",
              "      <td>0</td>\n",
              "      <td>9</td>\n",
              "      <td>94.0</td>\n",
              "      <td>114.0</td>\n",
              "      <td>72.0</td>\n",
              "      <td>86.0</td>\n",
              "      <td>50.0</td>\n",
              "      <td>147.0</td>\n",
              "      <td>1</td>\n",
              "      <td>1</td>\n",
              "    </tr>\n",
              "    <tr>\n",
              "      <th>6</th>\n",
              "      <td>1</td>\n",
              "      <td>0</td>\n",
              "      <td>9</td>\n",
              "      <td>93.0</td>\n",
              "      <td>112.0</td>\n",
              "      <td>73.0</td>\n",
              "      <td>250.0</td>\n",
              "      <td>26.0</td>\n",
              "      <td>40.0</td>\n",
              "      <td>1</td>\n",
              "      <td>1</td>\n",
              "    </tr>\n",
              "    <tr>\n",
              "      <th>7</th>\n",
              "      <td>1</td>\n",
              "      <td>0</td>\n",
              "      <td>13</td>\n",
              "      <td>92.0</td>\n",
              "      <td>131.0</td>\n",
              "      <td>79.0</td>\n",
              "      <td>93.0</td>\n",
              "      <td>NaN</td>\n",
              "      <td>NaN</td>\n",
              "      <td>1</td>\n",
              "      <td>0</td>\n",
              "    </tr>\n",
              "    <tr>\n",
              "      <th>8</th>\n",
              "      <td>0</td>\n",
              "      <td>1</td>\n",
              "      <td>17</td>\n",
              "      <td>82.0</td>\n",
              "      <td>136.0</td>\n",
              "      <td>65.0</td>\n",
              "      <td>104.0</td>\n",
              "      <td>63.0</td>\n",
              "      <td>101.0</td>\n",
              "      <td>0</td>\n",
              "      <td>0</td>\n",
              "    </tr>\n",
              "    <tr>\n",
              "      <th>9</th>\n",
              "      <td>0</td>\n",
              "      <td>1</td>\n",
              "      <td>14</td>\n",
              "      <td>71.2</td>\n",
              "      <td>124.0</td>\n",
              "      <td>83.0</td>\n",
              "      <td>85.0</td>\n",
              "      <td>NaN</td>\n",
              "      <td>NaN</td>\n",
              "      <td>0</td>\n",
              "      <td>0</td>\n",
              "    </tr>\n",
              "  </tbody>\n",
              "</table>\n",
              "</div>\n",
              "      <button class=\"colab-df-convert\" onclick=\"convertToInteractive('df-91ebe405-3716-48cf-a3e9-95a79c8b10fe')\"\n",
              "              title=\"Convert this dataframe to an interactive table.\"\n",
              "              style=\"display:none;\">\n",
              "        \n",
              "  <svg xmlns=\"http://www.w3.org/2000/svg\" height=\"24px\"viewBox=\"0 0 24 24\"\n",
              "       width=\"24px\">\n",
              "    <path d=\"M0 0h24v24H0V0z\" fill=\"none\"/>\n",
              "    <path d=\"M18.56 5.44l.94 2.06.94-2.06 2.06-.94-2.06-.94-.94-2.06-.94 2.06-2.06.94zm-11 1L8.5 8.5l.94-2.06 2.06-.94-2.06-.94L8.5 2.5l-.94 2.06-2.06.94zm10 10l.94 2.06.94-2.06 2.06-.94-2.06-.94-.94-2.06-.94 2.06-2.06.94z\"/><path d=\"M17.41 7.96l-1.37-1.37c-.4-.4-.92-.59-1.43-.59-.52 0-1.04.2-1.43.59L10.3 9.45l-7.72 7.72c-.78.78-.78 2.05 0 2.83L4 21.41c.39.39.9.59 1.41.59.51 0 1.02-.2 1.41-.59l7.78-7.78 2.81-2.81c.8-.78.8-2.07 0-2.86zM5.41 20L4 18.59l7.72-7.72 1.47 1.35L5.41 20z\"/>\n",
              "  </svg>\n",
              "      </button>\n",
              "      \n",
              "  <style>\n",
              "    .colab-df-container {\n",
              "      display:flex;\n",
              "      flex-wrap:wrap;\n",
              "      gap: 12px;\n",
              "    }\n",
              "\n",
              "    .colab-df-convert {\n",
              "      background-color: #E8F0FE;\n",
              "      border: none;\n",
              "      border-radius: 50%;\n",
              "      cursor: pointer;\n",
              "      display: none;\n",
              "      fill: #1967D2;\n",
              "      height: 32px;\n",
              "      padding: 0 0 0 0;\n",
              "      width: 32px;\n",
              "    }\n",
              "\n",
              "    .colab-df-convert:hover {\n",
              "      background-color: #E2EBFA;\n",
              "      box-shadow: 0px 1px 2px rgba(60, 64, 67, 0.3), 0px 1px 3px 1px rgba(60, 64, 67, 0.15);\n",
              "      fill: #174EA6;\n",
              "    }\n",
              "\n",
              "    [theme=dark] .colab-df-convert {\n",
              "      background-color: #3B4455;\n",
              "      fill: #D2E3FC;\n",
              "    }\n",
              "\n",
              "    [theme=dark] .colab-df-convert:hover {\n",
              "      background-color: #434B5C;\n",
              "      box-shadow: 0px 1px 3px 1px rgba(0, 0, 0, 0.15);\n",
              "      filter: drop-shadow(0px 1px 2px rgba(0, 0, 0, 0.3));\n",
              "      fill: #FFFFFF;\n",
              "    }\n",
              "  </style>\n",
              "\n",
              "      <script>\n",
              "        const buttonEl =\n",
              "          document.querySelector('#df-91ebe405-3716-48cf-a3e9-95a79c8b10fe button.colab-df-convert');\n",
              "        buttonEl.style.display =\n",
              "          google.colab.kernel.accessAllowed ? 'block' : 'none';\n",
              "\n",
              "        async function convertToInteractive(key) {\n",
              "          const element = document.querySelector('#df-91ebe405-3716-48cf-a3e9-95a79c8b10fe');\n",
              "          const dataTable =\n",
              "            await google.colab.kernel.invokeFunction('convertToInteractive',\n",
              "                                                     [key], {});\n",
              "          if (!dataTable) return;\n",
              "\n",
              "          const docLinkHtml = 'Like what you see? Visit the ' +\n",
              "            '<a target=\"_blank\" href=https://colab.research.google.com/notebooks/data_table.ipynb>data table notebook</a>'\n",
              "            + ' to learn more about interactive tables.';\n",
              "          element.innerHTML = '';\n",
              "          dataTable['output_type'] = 'display_data';\n",
              "          await google.colab.output.renderOutput(dataTable, element);\n",
              "          const docLink = document.createElement('div');\n",
              "          docLink.innerHTML = docLinkHtml;\n",
              "          element.appendChild(docLink);\n",
              "        }\n",
              "      </script>\n",
              "    </div>\n",
              "  </div>\n",
              "  "
            ]
          },
          "metadata": {}
        },
        {
          "output_type": "stream",
          "name": "stdout",
          "text": [
            "<class 'pandas.core.frame.DataFrame'>\n",
            "RangeIndex: 10000 entries, 0 to 9999\n",
            "Data columns (total 11 columns):\n",
            " #   Column   Non-Null Count  Dtype  \n",
            "---  ------   --------------  -----  \n",
            " 0   obesity  10000 non-null  int64  \n",
            " 1   gender   10000 non-null  int64  \n",
            " 2   age      10000 non-null  int64  \n",
            " 3   waist    10000 non-null  float64\n",
            " 4   BP_High  9912 non-null   float64\n",
            " 5   BP_LWST  9912 non-null   float64\n",
            " 6   BLDS     9912 non-null   float64\n",
            " 7   HDL      4044 non-null   float64\n",
            " 8   LDL      3977 non-null   float64\n",
            " 9   smoke    10000 non-null  int64  \n",
            " 10  alcohol  10000 non-null  int64  \n",
            "dtypes: float64(6), int64(5)\n",
            "memory usage: 859.5 KB\n",
            "None\n"
          ]
        }
      ]
    },
    {
      "cell_type": "markdown",
      "source": [
        "4. 결측치제거\n",
        "\n"
      ],
      "metadata": {
        "id": "VJhwMc7zyhK8"
      }
    },
    {
      "cell_type": "code",
      "source": [
        "health = health.dropna(axis=0)   \n",
        "\n",
        "print(\"결측치 제거: \", health.shape)\n",
        "print(health.isna().sum()) "
      ],
      "metadata": {
        "colab": {
          "base_uri": "https://localhost:8080/"
        },
        "id": "3isLZesuymfB",
        "outputId": "de2304b7-e7f8-40ef-bbe2-871e1d0f22e4"
      },
      "execution_count": null,
      "outputs": [
        {
          "output_type": "stream",
          "name": "stdout",
          "text": [
            "결측치 제거:  (3977, 11)\n",
            "obesity    0\n",
            "gender     0\n",
            "age        0\n",
            "waist      0\n",
            "BP_High    0\n",
            "BP_LWST    0\n",
            "BLDS       0\n",
            "HDL        0\n",
            "LDL        0\n",
            "smoke      0\n",
            "alcohol    0\n",
            "dtype: int64\n"
          ]
        }
      ]
    },
    {
      "cell_type": "markdown",
      "source": [
        "#3. 분류 모델1: 의사결정나무\n",
        "의사결정나무를 이용하여 분류모델 생성. "
      ],
      "metadata": {
        "id": "5_IdJmCsvfqc"
      }
    },
    {
      "cell_type": "code",
      "source": [
        "from sklearn.tree import DecisionTreeClassifier\n",
        "from sklearn.model_selection import train_test_split\n",
        "\n",
        "X = health.iloc[:, 1:] \n",
        "y = health.iloc[:, 0] \n",
        "\n",
        "X_train, X_test, y_train, y_test = train_test_split(X, y, test_size = 0.25, random_state=42)\n",
        "\n",
        "tree = DecisionTreeClassifier(random_state=0)\n",
        "tree.fit(X_train, y_train)\n",
        "print(\"학습용 데이터 정확도: {:.3f}\".format(tree.score(X_train, y_train)))\n",
        "print(\"시험용 데이터 정확도: {:.3f}\".format(tree.score(X_test, y_test)))"
      ],
      "metadata": {
        "colab": {
          "base_uri": "https://localhost:8080/"
        },
        "id": "rlAT4t3LvsVk",
        "outputId": "ef42899d-7935-4980-d32b-869dfdfb5816"
      },
      "execution_count": null,
      "outputs": [
        {
          "output_type": "stream",
          "name": "stdout",
          "text": [
            "학습용 데이터 정확도: 1.000\n",
            "시험용 데이터 정확도: 0.735\n"
          ]
        }
      ]
    },
    {
      "cell_type": "markdown",
      "source": [
        "위의 모델은 depth가 정해지지 않아 학습용 데이터에 과적합된 상태임.\n",
        "\n",
        "\n",
        "depth를 6으로 정해 아래와 같이 다시 학습시킨 모델을 만듦.\n",
        "\n",
        "학습용 데이터 정확도는 떨어졌지만, 시험용 데이터 정확도는 증가함.  \n",
        "시험용 데이터의 정확도를 더 높이고 싶었지만, 5이상이나 이하로 depth를 설정하면 오히려 시험용 데이터의 정확도가 떨어짐을 확인하여 5로 설정함."
      ],
      "metadata": {
        "id": "gYgLHLuS365H"
      }
    },
    {
      "cell_type": "code",
      "source": [
        "tree = DecisionTreeClassifier(max_depth=5, random_state=0)\n",
        "tree.fit(X_train, y_train)\n",
        "\n",
        "print(\"학습용 데이터 정확도: {:.3f}\".format(tree.score(X_train, y_train)))\n",
        "print(\"시험용 데이터 정확도: {:.3f}\".format(tree.score(X_test, y_test)))"
      ],
      "metadata": {
        "colab": {
          "base_uri": "https://localhost:8080/"
        },
        "id": "9i2oU4zf4NdZ",
        "outputId": "68b9fc1e-7047-4d80-99da-ad7a2e169915"
      },
      "execution_count": null,
      "outputs": [
        {
          "output_type": "stream",
          "name": "stdout",
          "text": [
            "학습용 데이터 정확도: 0.830\n",
            "시험용 데이터 정확도: 0.798\n"
          ]
        }
      ]
    },
    {
      "cell_type": "markdown",
      "source": [
        "##의사결정나무 시각화"
      ],
      "metadata": {
        "id": "Lwg2T43J5wH-"
      }
    },
    {
      "cell_type": "code",
      "source": [
        "from sklearn.tree import export_graphviz\n",
        "import graphviz\n",
        "\n",
        "# filled = True: 색상의 진하기로 클래스를 나타냄, impurity: 불순도 계산값 보여주기 옵션\n",
        "# class_names 순서 중요. 잘 생각하기.\n",
        "export_graphviz(tree, out_file=\"tree.dot\", class_names=[ \"정상\", \"비만\"],\n",
        "                feature_names=health.columns[1:], impurity=False, filled=True)\n",
        "\n",
        "with open(\"tree.dot\") as f:\n",
        "    dot_graph = f.read()\n",
        "\n",
        "display(graphviz.Source(dot_graph))"
      ],
      "metadata": {
        "colab": {
          "base_uri": "https://localhost:8080/",
          "height": 815
        },
        "id": "e_39zETE4xpU",
        "outputId": "b62cfe34-27e9-422f-8bda-368162373553"
      },
      "execution_count": null,
      "outputs": [
        {
          "output_type": "display_data",
          "data": {
            "text/plain": [
              "<graphviz.files.Source at 0x7f284e49a490>"
            ],
            "image/svg+xml": "<?xml version=\"1.0\" encoding=\"UTF-8\" standalone=\"no\"?>\n<!DOCTYPE svg PUBLIC \"-//W3C//DTD SVG 1.1//EN\"\n \"http://www.w3.org/Graphics/SVG/1.1/DTD/svg11.dtd\">\n<!-- Generated by graphviz version 2.40.1 (20161225.0304)\n -->\n<!-- Title: Tree Pages: 1 -->\n<svg width=\"4107pt\" height=\"581pt\"\n viewBox=\"0.00 0.00 4107.00 581.00\" xmlns=\"http://www.w3.org/2000/svg\" xmlns:xlink=\"http://www.w3.org/1999/xlink\">\n<g id=\"graph0\" class=\"graph\" transform=\"scale(1 1) rotate(0) translate(4 577)\">\n<title>Tree</title>\n<polygon fill=\"#ffffff\" stroke=\"transparent\" points=\"-4,4 -4,-577 4103,-577 4103,4 -4,4\"/>\n<!-- 0 -->\n<g id=\"node1\" class=\"node\">\n<title>0</title>\n<polygon fill=\"#f6d3b9\" stroke=\"#000000\" points=\"2414,-573 2265,-573 2265,-505 2414,-505 2414,-573\"/>\n<text text-anchor=\"middle\" x=\"2339.5\" y=\"-557.8\" font-family=\"Helvetica,sans-Serif\" font-size=\"14.00\" fill=\"#000000\">waist &lt;= 84.95</text>\n<text text-anchor=\"middle\" x=\"2339.5\" y=\"-542.8\" font-family=\"Helvetica,sans-Serif\" font-size=\"14.00\" fill=\"#000000\">samples = 2982</text>\n<text text-anchor=\"middle\" x=\"2339.5\" y=\"-527.8\" font-family=\"Helvetica,sans-Serif\" font-size=\"14.00\" fill=\"#000000\">value = [1809, 1173]</text>\n<text text-anchor=\"middle\" x=\"2339.5\" y=\"-512.8\" font-family=\"Helvetica,sans-Serif\" font-size=\"14.00\" fill=\"#000000\">class = 정상</text>\n</g>\n<!-- 1 -->\n<g id=\"node2\" class=\"node\">\n<title>1</title>\n<polygon fill=\"#ea985c\" stroke=\"#000000\" points=\"1681.5,-469 1541.5,-469 1541.5,-401 1681.5,-401 1681.5,-469\"/>\n<text text-anchor=\"middle\" x=\"1611.5\" y=\"-453.8\" font-family=\"Helvetica,sans-Serif\" font-size=\"14.00\" fill=\"#000000\">waist &lt;= 79.75</text>\n<text text-anchor=\"middle\" x=\"1611.5\" y=\"-438.8\" font-family=\"Helvetica,sans-Serif\" font-size=\"14.00\" fill=\"#000000\">samples = 1764</text>\n<text text-anchor=\"middle\" x=\"1611.5\" y=\"-423.8\" font-family=\"Helvetica,sans-Serif\" font-size=\"14.00\" fill=\"#000000\">value = [1496, 268]</text>\n<text text-anchor=\"middle\" x=\"1611.5\" y=\"-408.8\" font-family=\"Helvetica,sans-Serif\" font-size=\"14.00\" fill=\"#000000\">class = 정상</text>\n</g>\n<!-- 0&#45;&gt;1 -->\n<g id=\"edge1\" class=\"edge\">\n<title>0&#45;&gt;1</title>\n<path fill=\"none\" stroke=\"#000000\" d=\"M2264.6731,-528.3104C2126.6599,-508.5943 1833.2117,-466.6731 1691.4497,-446.4214\"/>\n<polygon fill=\"#000000\" stroke=\"#000000\" points=\"1691.9037,-442.9508 1681.5092,-445.0013 1690.9137,-449.8804 1691.9037,-442.9508\"/>\n<text text-anchor=\"middle\" x=\"1696.5092\" y=\"-461.3013\" font-family=\"Helvetica,sans-Serif\" font-size=\"14.00\" fill=\"#000000\">True</text>\n</g>\n<!-- 32 -->\n<g id=\"node33\" class=\"node\">\n<title>32</title>\n<polygon fill=\"#7dbfee\" stroke=\"#000000\" points=\"2620.5,-469 2488.5,-469 2488.5,-401 2620.5,-401 2620.5,-469\"/>\n<text text-anchor=\"middle\" x=\"2554.5\" y=\"-453.8\" font-family=\"Helvetica,sans-Serif\" font-size=\"14.00\" fill=\"#000000\">waist &lt;= 91.05</text>\n<text text-anchor=\"middle\" x=\"2554.5\" y=\"-438.8\" font-family=\"Helvetica,sans-Serif\" font-size=\"14.00\" fill=\"#000000\">samples = 1218</text>\n<text text-anchor=\"middle\" x=\"2554.5\" y=\"-423.8\" font-family=\"Helvetica,sans-Serif\" font-size=\"14.00\" fill=\"#000000\">value = [313, 905]</text>\n<text text-anchor=\"middle\" x=\"2554.5\" y=\"-408.8\" font-family=\"Helvetica,sans-Serif\" font-size=\"14.00\" fill=\"#000000\">class = 비만</text>\n</g>\n<!-- 0&#45;&gt;32 -->\n<g id=\"edge32\" class=\"edge\">\n<title>0&#45;&gt;32</title>\n<path fill=\"none\" stroke=\"#000000\" d=\"M2409.899,-504.9465C2432.0723,-494.2209 2456.6458,-482.3341 2479.1492,-471.4487\"/>\n<polygon fill=\"#000000\" stroke=\"#000000\" points=\"2480.843,-474.5174 2488.3211,-467.0121 2477.7948,-468.216 2480.843,-474.5174\"/>\n<text text-anchor=\"middle\" x=\"2480.1052\" y=\"-486.9236\" font-family=\"Helvetica,sans-Serif\" font-size=\"14.00\" fill=\"#000000\">False</text>\n</g>\n<!-- 2 -->\n<g id=\"node3\" class=\"node\">\n<title>2</title>\n<polygon fill=\"#e78b48\" stroke=\"#000000\" points=\"806.5,-365 674.5,-365 674.5,-297 806.5,-297 806.5,-365\"/>\n<text text-anchor=\"middle\" x=\"740.5\" y=\"-349.8\" font-family=\"Helvetica,sans-Serif\" font-size=\"14.00\" fill=\"#000000\">waist &lt;= 72.95</text>\n<text text-anchor=\"middle\" x=\"740.5\" y=\"-334.8\" font-family=\"Helvetica,sans-Serif\" font-size=\"14.00\" fill=\"#000000\">samples = 1148</text>\n<text text-anchor=\"middle\" x=\"740.5\" y=\"-319.8\" font-family=\"Helvetica,sans-Serif\" font-size=\"14.00\" fill=\"#000000\">value = [1065, 83]</text>\n<text text-anchor=\"middle\" x=\"740.5\" y=\"-304.8\" font-family=\"Helvetica,sans-Serif\" font-size=\"14.00\" fill=\"#000000\">class = 정상</text>\n</g>\n<!-- 1&#45;&gt;2 -->\n<g id=\"edge2\" class=\"edge\">\n<title>1&#45;&gt;2</title>\n<path fill=\"none\" stroke=\"#000000\" d=\"M1541.3279,-426.6212C1379.9581,-407.3532 983.5771,-360.0241 816.6092,-340.0877\"/>\n<polygon fill=\"#000000\" stroke=\"#000000\" points=\"817.0121,-336.611 806.6676,-338.9006 816.1821,-343.5616 817.0121,-336.611\"/>\n</g>\n<!-- 17 -->\n<g id=\"node18\" class=\"node\">\n<title>17</title>\n<polygon fill=\"#f0b78e\" stroke=\"#000000\" points=\"1677.5,-365 1545.5,-365 1545.5,-297 1677.5,-297 1677.5,-365\"/>\n<text text-anchor=\"middle\" x=\"1611.5\" y=\"-349.8\" font-family=\"Helvetica,sans-Serif\" font-size=\"14.00\" fill=\"#000000\">gender &lt;= 0.5</text>\n<text text-anchor=\"middle\" x=\"1611.5\" y=\"-334.8\" font-family=\"Helvetica,sans-Serif\" font-size=\"14.00\" fill=\"#000000\">samples = 616</text>\n<text text-anchor=\"middle\" x=\"1611.5\" y=\"-319.8\" font-family=\"Helvetica,sans-Serif\" font-size=\"14.00\" fill=\"#000000\">value = [431, 185]</text>\n<text text-anchor=\"middle\" x=\"1611.5\" y=\"-304.8\" font-family=\"Helvetica,sans-Serif\" font-size=\"14.00\" fill=\"#000000\">class = 정상</text>\n</g>\n<!-- 1&#45;&gt;17 -->\n<g id=\"edge17\" class=\"edge\">\n<title>1&#45;&gt;17</title>\n<path fill=\"none\" stroke=\"#000000\" d=\"M1611.5,-400.9465C1611.5,-392.776 1611.5,-383.9318 1611.5,-375.3697\"/>\n<polygon fill=\"#000000\" stroke=\"#000000\" points=\"1615.0001,-375.13 1611.5,-365.13 1608.0001,-375.13 1615.0001,-375.13\"/>\n</g>\n<!-- 3 -->\n<g id=\"node4\" class=\"node\">\n<title>3</title>\n<polygon fill=\"#e5833d\" stroke=\"#000000\" points=\"437.5,-261 321.5,-261 321.5,-193 437.5,-193 437.5,-261\"/>\n<text text-anchor=\"middle\" x=\"379.5\" y=\"-245.8\" font-family=\"Helvetica,sans-Serif\" font-size=\"14.00\" fill=\"#000000\">HDL &lt;= 50.5</text>\n<text text-anchor=\"middle\" x=\"379.5\" y=\"-230.8\" font-family=\"Helvetica,sans-Serif\" font-size=\"14.00\" fill=\"#000000\">samples = 507</text>\n<text text-anchor=\"middle\" x=\"379.5\" y=\"-215.8\" font-family=\"Helvetica,sans-Serif\" font-size=\"14.00\" fill=\"#000000\">value = [498, 9]</text>\n<text text-anchor=\"middle\" x=\"379.5\" y=\"-200.8\" font-family=\"Helvetica,sans-Serif\" font-size=\"14.00\" fill=\"#000000\">class = 정상</text>\n</g>\n<!-- 2&#45;&gt;3 -->\n<g id=\"edge3\" class=\"edge\">\n<title>2&#45;&gt;3</title>\n<path fill=\"none\" stroke=\"#000000\" d=\"M674.287,-311.9248C609.8145,-293.351 512.2946,-265.2566 447.2898,-246.5295\"/>\n<polygon fill=\"#000000\" stroke=\"#000000\" points=\"448.1229,-243.1272 437.5447,-243.722 446.185,-249.8536 448.1229,-243.1272\"/>\n</g>\n<!-- 10 -->\n<g id=\"node11\" class=\"node\">\n<title>10</title>\n<polygon fill=\"#e89153\" stroke=\"#000000\" points=\"802.5,-261 678.5,-261 678.5,-193 802.5,-193 802.5,-261\"/>\n<text text-anchor=\"middle\" x=\"740.5\" y=\"-245.8\" font-family=\"Helvetica,sans-Serif\" font-size=\"14.00\" fill=\"#000000\">gender &lt;= 0.5</text>\n<text text-anchor=\"middle\" x=\"740.5\" y=\"-230.8\" font-family=\"Helvetica,sans-Serif\" font-size=\"14.00\" fill=\"#000000\">samples = 641</text>\n<text text-anchor=\"middle\" x=\"740.5\" y=\"-215.8\" font-family=\"Helvetica,sans-Serif\" font-size=\"14.00\" fill=\"#000000\">value = [567, 74]</text>\n<text text-anchor=\"middle\" x=\"740.5\" y=\"-200.8\" font-family=\"Helvetica,sans-Serif\" font-size=\"14.00\" fill=\"#000000\">class = 정상</text>\n</g>\n<!-- 2&#45;&gt;10 -->\n<g id=\"edge10\" class=\"edge\">\n<title>2&#45;&gt;10</title>\n<path fill=\"none\" stroke=\"#000000\" d=\"M740.5,-296.9465C740.5,-288.776 740.5,-279.9318 740.5,-271.3697\"/>\n<polygon fill=\"#000000\" stroke=\"#000000\" points=\"744.0001,-271.13 740.5,-261.13 737.0001,-271.13 744.0001,-271.13\"/>\n</g>\n<!-- 4 -->\n<g id=\"node5\" class=\"node\">\n<title>4</title>\n<polygon fill=\"#e88e4d\" stroke=\"#000000\" points=\"243,-157 106,-157 106,-89 243,-89 243,-157\"/>\n<text text-anchor=\"middle\" x=\"174.5\" y=\"-141.8\" font-family=\"Helvetica,sans-Serif\" font-size=\"14.00\" fill=\"#000000\">BP_LWST &lt;= 83.5</text>\n<text text-anchor=\"middle\" x=\"174.5\" y=\"-126.8\" font-family=\"Helvetica,sans-Serif\" font-size=\"14.00\" fill=\"#000000\">samples = 66</text>\n<text text-anchor=\"middle\" x=\"174.5\" y=\"-111.8\" font-family=\"Helvetica,sans-Serif\" font-size=\"14.00\" fill=\"#000000\">value = [60, 6]</text>\n<text text-anchor=\"middle\" x=\"174.5\" y=\"-96.8\" font-family=\"Helvetica,sans-Serif\" font-size=\"14.00\" fill=\"#000000\">class = 정상</text>\n</g>\n<!-- 3&#45;&gt;4 -->\n<g id=\"edge4\" class=\"edge\">\n<title>3&#45;&gt;4</title>\n<path fill=\"none\" stroke=\"#000000\" d=\"M321.3036,-197.476C299.3583,-186.3428 274.058,-173.5075 250.7096,-161.6624\"/>\n<polygon fill=\"#000000\" stroke=\"#000000\" points=\"252.0287,-158.407 241.5271,-157.004 248.8616,-164.6496 252.0287,-158.407\"/>\n</g>\n<!-- 7 -->\n<g id=\"node8\" class=\"node\">\n<title>7</title>\n<polygon fill=\"#e5823a\" stroke=\"#000000\" points=\"448,-157 311,-157 311,-89 448,-89 448,-157\"/>\n<text text-anchor=\"middle\" x=\"379.5\" y=\"-141.8\" font-family=\"Helvetica,sans-Serif\" font-size=\"14.00\" fill=\"#000000\">BP_LWST &lt;= 79.5</text>\n<text text-anchor=\"middle\" x=\"379.5\" y=\"-126.8\" font-family=\"Helvetica,sans-Serif\" font-size=\"14.00\" fill=\"#000000\">samples = 441</text>\n<text text-anchor=\"middle\" x=\"379.5\" y=\"-111.8\" font-family=\"Helvetica,sans-Serif\" font-size=\"14.00\" fill=\"#000000\">value = [438, 3]</text>\n<text text-anchor=\"middle\" x=\"379.5\" y=\"-96.8\" font-family=\"Helvetica,sans-Serif\" font-size=\"14.00\" fill=\"#000000\">class = 정상</text>\n</g>\n<!-- 3&#45;&gt;7 -->\n<g id=\"edge7\" class=\"edge\">\n<title>3&#45;&gt;7</title>\n<path fill=\"none\" stroke=\"#000000\" d=\"M379.5,-192.9465C379.5,-184.776 379.5,-175.9318 379.5,-167.3697\"/>\n<polygon fill=\"#000000\" stroke=\"#000000\" points=\"383.0001,-167.13 379.5,-157.13 376.0001,-167.13 383.0001,-167.13\"/>\n</g>\n<!-- 5 -->\n<g id=\"node6\" class=\"node\">\n<title>5</title>\n<polygon fill=\"#e68844\" stroke=\"#000000\" points=\"107,-53 0,-53 0,0 107,0 107,-53\"/>\n<text text-anchor=\"middle\" x=\"53.5\" y=\"-37.8\" font-family=\"Helvetica,sans-Serif\" font-size=\"14.00\" fill=\"#000000\">samples = 57</text>\n<text text-anchor=\"middle\" x=\"53.5\" y=\"-22.8\" font-family=\"Helvetica,sans-Serif\" font-size=\"14.00\" fill=\"#000000\">value = [54, 3]</text>\n<text text-anchor=\"middle\" x=\"53.5\" y=\"-7.8\" font-family=\"Helvetica,sans-Serif\" font-size=\"14.00\" fill=\"#000000\">class = 정상</text>\n</g>\n<!-- 4&#45;&gt;5 -->\n<g id=\"edge5\" class=\"edge\">\n<title>4&#45;&gt;5</title>\n<path fill=\"none\" stroke=\"#000000\" d=\"M131.8399,-88.9777C119.8989,-79.4545 106.9395,-69.1191 95.063,-59.6473\"/>\n<polygon fill=\"#000000\" stroke=\"#000000\" points=\"97.04,-56.7473 87.0395,-53.2485 92.6754,-62.22 97.04,-56.7473\"/>\n</g>\n<!-- 6 -->\n<g id=\"node7\" class=\"node\">\n<title>6</title>\n<polygon fill=\"#f2c09c\" stroke=\"#000000\" points=\"224,-53 125,-53 125,0 224,0 224,-53\"/>\n<text text-anchor=\"middle\" x=\"174.5\" y=\"-37.8\" font-family=\"Helvetica,sans-Serif\" font-size=\"14.00\" fill=\"#000000\">samples = 9</text>\n<text text-anchor=\"middle\" x=\"174.5\" y=\"-22.8\" font-family=\"Helvetica,sans-Serif\" font-size=\"14.00\" fill=\"#000000\">value = [6, 3]</text>\n<text text-anchor=\"middle\" x=\"174.5\" y=\"-7.8\" font-family=\"Helvetica,sans-Serif\" font-size=\"14.00\" fill=\"#000000\">class = 정상</text>\n</g>\n<!-- 4&#45;&gt;6 -->\n<g id=\"edge6\" class=\"edge\">\n<title>4&#45;&gt;6</title>\n<path fill=\"none\" stroke=\"#000000\" d=\"M174.5,-88.9777C174.5,-80.7364 174.5,-71.887 174.5,-63.5153\"/>\n<polygon fill=\"#000000\" stroke=\"#000000\" points=\"178.0001,-63.2484 174.5,-53.2485 171.0001,-63.2485 178.0001,-63.2484\"/>\n</g>\n<!-- 8 -->\n<g id=\"node9\" class=\"node\">\n<title>8</title>\n<polygon fill=\"#e58139\" stroke=\"#000000\" points=\"358.5,-53 242.5,-53 242.5,0 358.5,0 358.5,-53\"/>\n<text text-anchor=\"middle\" x=\"300.5\" y=\"-37.8\" font-family=\"Helvetica,sans-Serif\" font-size=\"14.00\" fill=\"#000000\">samples = 343</text>\n<text text-anchor=\"middle\" x=\"300.5\" y=\"-22.8\" font-family=\"Helvetica,sans-Serif\" font-size=\"14.00\" fill=\"#000000\">value = [343, 0]</text>\n<text text-anchor=\"middle\" x=\"300.5\" y=\"-7.8\" font-family=\"Helvetica,sans-Serif\" font-size=\"14.00\" fill=\"#000000\">class = 정상</text>\n</g>\n<!-- 7&#45;&gt;8 -->\n<g id=\"edge8\" class=\"edge\">\n<title>7&#45;&gt;8</title>\n<path fill=\"none\" stroke=\"#000000\" d=\"M351.6476,-88.9777C344.2261,-79.9123 336.2023,-70.111 328.7593,-61.0192\"/>\n<polygon fill=\"#000000\" stroke=\"#000000\" points=\"331.4405,-58.7692 322.3977,-53.2485 326.0241,-63.2034 331.4405,-58.7692\"/>\n</g>\n<!-- 9 -->\n<g id=\"node10\" class=\"node\">\n<title>9</title>\n<polygon fill=\"#e6853f\" stroke=\"#000000\" points=\"484,-53 377,-53 377,0 484,0 484,-53\"/>\n<text text-anchor=\"middle\" x=\"430.5\" y=\"-37.8\" font-family=\"Helvetica,sans-Serif\" font-size=\"14.00\" fill=\"#000000\">samples = 98</text>\n<text text-anchor=\"middle\" x=\"430.5\" y=\"-22.8\" font-family=\"Helvetica,sans-Serif\" font-size=\"14.00\" fill=\"#000000\">value = [95, 3]</text>\n<text text-anchor=\"middle\" x=\"430.5\" y=\"-7.8\" font-family=\"Helvetica,sans-Serif\" font-size=\"14.00\" fill=\"#000000\">class = 정상</text>\n</g>\n<!-- 7&#45;&gt;9 -->\n<g id=\"edge9\" class=\"edge\">\n<title>7&#45;&gt;9</title>\n<path fill=\"none\" stroke=\"#000000\" d=\"M397.4807,-88.9777C402.0782,-80.2786 407.0337,-70.9018 411.6725,-62.1247\"/>\n<polygon fill=\"#000000\" stroke=\"#000000\" points=\"414.7853,-63.7251 416.3635,-53.2485 408.5965,-60.4543 414.7853,-63.7251\"/>\n</g>\n<!-- 11 -->\n<g id=\"node12\" class=\"node\">\n<title>11</title>\n<polygon fill=\"#e6853f\" stroke=\"#000000\" points=\"729.5,-157 613.5,-157 613.5,-89 729.5,-89 729.5,-157\"/>\n<text text-anchor=\"middle\" x=\"671.5\" y=\"-141.8\" font-family=\"Helvetica,sans-Serif\" font-size=\"14.00\" fill=\"#000000\">LDL &lt;= 31.5</text>\n<text text-anchor=\"middle\" x=\"671.5\" y=\"-126.8\" font-family=\"Helvetica,sans-Serif\" font-size=\"14.00\" fill=\"#000000\">samples = 202</text>\n<text text-anchor=\"middle\" x=\"671.5\" y=\"-111.8\" font-family=\"Helvetica,sans-Serif\" font-size=\"14.00\" fill=\"#000000\">value = [196, 6]</text>\n<text text-anchor=\"middle\" x=\"671.5\" y=\"-96.8\" font-family=\"Helvetica,sans-Serif\" font-size=\"14.00\" fill=\"#000000\">class = 정상</text>\n</g>\n<!-- 10&#45;&gt;11 -->\n<g id=\"edge11\" class=\"edge\">\n<title>10&#45;&gt;11</title>\n<path fill=\"none\" stroke=\"#000000\" d=\"M717.9068,-192.9465C712.1286,-184.2373 705.8425,-174.7626 699.8166,-165.6801\"/>\n<polygon fill=\"#000000\" stroke=\"#000000\" points=\"702.589,-163.5278 694.1439,-157.13 696.756,-167.3978 702.589,-163.5278\"/>\n</g>\n<!-- 14 -->\n<g id=\"node15\" class=\"node\">\n<title>14</title>\n<polygon fill=\"#ea985d\" stroke=\"#000000\" points=\"871.5,-157 747.5,-157 747.5,-89 871.5,-89 871.5,-157\"/>\n<text text-anchor=\"middle\" x=\"809.5\" y=\"-141.8\" font-family=\"Helvetica,sans-Serif\" font-size=\"14.00\" fill=\"#000000\">BLDS &lt;= 70.5</text>\n<text text-anchor=\"middle\" x=\"809.5\" y=\"-126.8\" font-family=\"Helvetica,sans-Serif\" font-size=\"14.00\" fill=\"#000000\">samples = 439</text>\n<text text-anchor=\"middle\" x=\"809.5\" y=\"-111.8\" font-family=\"Helvetica,sans-Serif\" font-size=\"14.00\" fill=\"#000000\">value = [371, 68]</text>\n<text text-anchor=\"middle\" x=\"809.5\" y=\"-96.8\" font-family=\"Helvetica,sans-Serif\" font-size=\"14.00\" fill=\"#000000\">class = 정상</text>\n</g>\n<!-- 10&#45;&gt;14 -->\n<g id=\"edge14\" class=\"edge\">\n<title>10&#45;&gt;14</title>\n<path fill=\"none\" stroke=\"#000000\" d=\"M763.0932,-192.9465C768.8714,-184.2373 775.1575,-174.7626 781.1834,-165.6801\"/>\n<polygon fill=\"#000000\" stroke=\"#000000\" points=\"784.244,-167.3978 786.8561,-157.13 778.411,-163.5278 784.244,-167.3978\"/>\n</g>\n<!-- 12 -->\n<g id=\"node13\" class=\"node\">\n<title>12</title>\n<polygon fill=\"#399de5\" stroke=\"#000000\" points=\"601,-53 502,-53 502,0 601,0 601,-53\"/>\n<text text-anchor=\"middle\" x=\"551.5\" y=\"-37.8\" font-family=\"Helvetica,sans-Serif\" font-size=\"14.00\" fill=\"#000000\">samples = 1</text>\n<text text-anchor=\"middle\" x=\"551.5\" y=\"-22.8\" font-family=\"Helvetica,sans-Serif\" font-size=\"14.00\" fill=\"#000000\">value = [0, 1]</text>\n<text text-anchor=\"middle\" x=\"551.5\" y=\"-7.8\" font-family=\"Helvetica,sans-Serif\" font-size=\"14.00\" fill=\"#000000\">class = 비만</text>\n</g>\n<!-- 11&#45;&gt;12 -->\n<g id=\"edge12\" class=\"edge\">\n<title>11&#45;&gt;12</title>\n<path fill=\"none\" stroke=\"#000000\" d=\"M629.1925,-88.9777C617.3501,-79.4545 604.4979,-69.1191 592.7195,-59.6473\"/>\n<polygon fill=\"#000000\" stroke=\"#000000\" points=\"594.7486,-56.7877 584.7624,-53.2485 590.3618,-62.2427 594.7486,-56.7877\"/>\n</g>\n<!-- 13 -->\n<g id=\"node14\" class=\"node\">\n<title>13</title>\n<polygon fill=\"#e6843e\" stroke=\"#000000\" points=\"735.5,-53 619.5,-53 619.5,0 735.5,0 735.5,-53\"/>\n<text text-anchor=\"middle\" x=\"677.5\" y=\"-37.8\" font-family=\"Helvetica,sans-Serif\" font-size=\"14.00\" fill=\"#000000\">samples = 201</text>\n<text text-anchor=\"middle\" x=\"677.5\" y=\"-22.8\" font-family=\"Helvetica,sans-Serif\" font-size=\"14.00\" fill=\"#000000\">value = [196, 5]</text>\n<text text-anchor=\"middle\" x=\"677.5\" y=\"-7.8\" font-family=\"Helvetica,sans-Serif\" font-size=\"14.00\" fill=\"#000000\">class = 정상</text>\n</g>\n<!-- 11&#45;&gt;13 -->\n<g id=\"edge13\" class=\"edge\">\n<title>11&#45;&gt;13</title>\n<path fill=\"none\" stroke=\"#000000\" d=\"M673.6154,-88.9777C674.1335,-80.6449 674.6902,-71.6903 675.2159,-63.2364\"/>\n<polygon fill=\"#000000\" stroke=\"#000000\" points=\"678.7095,-63.4464 675.8369,-53.2485 671.723,-63.012 678.7095,-63.4464\"/>\n</g>\n<!-- 15 -->\n<g id=\"node16\" class=\"node\">\n<title>15</title>\n<polygon fill=\"#399de5\" stroke=\"#000000\" points=\"853,-53 754,-53 754,0 853,0 853,-53\"/>\n<text text-anchor=\"middle\" x=\"803.5\" y=\"-37.8\" font-family=\"Helvetica,sans-Serif\" font-size=\"14.00\" fill=\"#000000\">samples = 2</text>\n<text text-anchor=\"middle\" x=\"803.5\" y=\"-22.8\" font-family=\"Helvetica,sans-Serif\" font-size=\"14.00\" fill=\"#000000\">value = [0, 2]</text>\n<text text-anchor=\"middle\" x=\"803.5\" y=\"-7.8\" font-family=\"Helvetica,sans-Serif\" font-size=\"14.00\" fill=\"#000000\">class = 비만</text>\n</g>\n<!-- 14&#45;&gt;15 -->\n<g id=\"edge15\" class=\"edge\">\n<title>14&#45;&gt;15</title>\n<path fill=\"none\" stroke=\"#000000\" d=\"M807.3846,-88.9777C806.8665,-80.6449 806.3098,-71.6903 805.7841,-63.2364\"/>\n<polygon fill=\"#000000\" stroke=\"#000000\" points=\"809.277,-63.012 805.1631,-53.2485 802.2905,-63.4464 809.277,-63.012\"/>\n</g>\n<!-- 16 -->\n<g id=\"node17\" class=\"node\">\n<title>16</title>\n<polygon fill=\"#ea975c\" stroke=\"#000000\" points=\"995.5,-53 871.5,-53 871.5,0 995.5,0 995.5,-53\"/>\n<text text-anchor=\"middle\" x=\"933.5\" y=\"-37.8\" font-family=\"Helvetica,sans-Serif\" font-size=\"14.00\" fill=\"#000000\">samples = 437</text>\n<text text-anchor=\"middle\" x=\"933.5\" y=\"-22.8\" font-family=\"Helvetica,sans-Serif\" font-size=\"14.00\" fill=\"#000000\">value = [371, 66]</text>\n<text text-anchor=\"middle\" x=\"933.5\" y=\"-7.8\" font-family=\"Helvetica,sans-Serif\" font-size=\"14.00\" fill=\"#000000\">class = 정상</text>\n</g>\n<!-- 14&#45;&gt;16 -->\n<g id=\"edge16\" class=\"edge\">\n<title>14&#45;&gt;16</title>\n<path fill=\"none\" stroke=\"#000000\" d=\"M853.2178,-88.9777C865.4549,-79.4545 878.7355,-69.1191 890.9066,-59.6473\"/>\n<polygon fill=\"#000000\" stroke=\"#000000\" points=\"893.3866,-62.1523 899.1289,-53.2485 889.0875,-56.628 893.3866,-62.1523\"/>\n</g>\n<!-- 18 -->\n<g id=\"node19\" class=\"node\">\n<title>18</title>\n<polygon fill=\"#eca16b\" stroke=\"#000000\" points=\"1477.5,-261 1353.5,-261 1353.5,-193 1477.5,-193 1477.5,-261\"/>\n<text text-anchor=\"middle\" x=\"1415.5\" y=\"-245.8\" font-family=\"Helvetica,sans-Serif\" font-size=\"14.00\" fill=\"#000000\">HDL &lt;= 48.5</text>\n<text text-anchor=\"middle\" x=\"1415.5\" y=\"-230.8\" font-family=\"Helvetica,sans-Serif\" font-size=\"14.00\" fill=\"#000000\">samples = 343</text>\n<text text-anchor=\"middle\" x=\"1415.5\" y=\"-215.8\" font-family=\"Helvetica,sans-Serif\" font-size=\"14.00\" fill=\"#000000\">value = [274, 69]</text>\n<text text-anchor=\"middle\" x=\"1415.5\" y=\"-200.8\" font-family=\"Helvetica,sans-Serif\" font-size=\"14.00\" fill=\"#000000\">class = 정상</text>\n</g>\n<!-- 17&#45;&gt;18 -->\n<g id=\"edge18\" class=\"edge\">\n<title>17&#45;&gt;18</title>\n<path fill=\"none\" stroke=\"#000000\" d=\"M1547.3223,-296.9465C1527.959,-286.6721 1506.5877,-275.3323 1486.7908,-264.8278\"/>\n<polygon fill=\"#000000\" stroke=\"#000000\" points=\"1488.2926,-261.6625 1477.8186,-260.067 1485.0116,-267.846 1488.2926,-261.6625\"/>\n</g>\n<!-- 25 -->\n<g id=\"node26\" class=\"node\">\n<title>25</title>\n<polygon fill=\"#f8decb\" stroke=\"#000000\" points=\"1745,-261 1608,-261 1608,-193 1745,-193 1745,-261\"/>\n<text text-anchor=\"middle\" x=\"1676.5\" y=\"-245.8\" font-family=\"Helvetica,sans-Serif\" font-size=\"14.00\" fill=\"#000000\">BP_LWST &lt;= 74.5</text>\n<text text-anchor=\"middle\" x=\"1676.5\" y=\"-230.8\" font-family=\"Helvetica,sans-Serif\" font-size=\"14.00\" fill=\"#000000\">samples = 273</text>\n<text text-anchor=\"middle\" x=\"1676.5\" y=\"-215.8\" font-family=\"Helvetica,sans-Serif\" font-size=\"14.00\" fill=\"#000000\">value = [157, 116]</text>\n<text text-anchor=\"middle\" x=\"1676.5\" y=\"-200.8\" font-family=\"Helvetica,sans-Serif\" font-size=\"14.00\" fill=\"#000000\">class = 정상</text>\n</g>\n<!-- 17&#45;&gt;25 -->\n<g id=\"edge25\" class=\"edge\">\n<title>17&#45;&gt;25</title>\n<path fill=\"none\" stroke=\"#000000\" d=\"M1632.7834,-296.9465C1638.2267,-288.2373 1644.1484,-278.7626 1649.825,-269.6801\"/>\n<polygon fill=\"#000000\" stroke=\"#000000\" points=\"1652.8367,-271.465 1655.1688,-261.13 1646.9007,-267.755 1652.8367,-271.465\"/>\n</g>\n<!-- 19 -->\n<g id=\"node20\" class=\"node\">\n<title>19</title>\n<polygon fill=\"#f0b78e\" stroke=\"#000000\" points=\"1263.5,-157 1147.5,-157 1147.5,-89 1263.5,-89 1263.5,-157\"/>\n<text text-anchor=\"middle\" x=\"1205.5\" y=\"-141.8\" font-family=\"Helvetica,sans-Serif\" font-size=\"14.00\" fill=\"#000000\">waist &lt;= 83.75</text>\n<text text-anchor=\"middle\" x=\"1205.5\" y=\"-126.8\" font-family=\"Helvetica,sans-Serif\" font-size=\"14.00\" fill=\"#000000\">samples = 133</text>\n<text text-anchor=\"middle\" x=\"1205.5\" y=\"-111.8\" font-family=\"Helvetica,sans-Serif\" font-size=\"14.00\" fill=\"#000000\">value = [93, 40]</text>\n<text text-anchor=\"middle\" x=\"1205.5\" y=\"-96.8\" font-family=\"Helvetica,sans-Serif\" font-size=\"14.00\" fill=\"#000000\">class = 정상</text>\n</g>\n<!-- 18&#45;&gt;19 -->\n<g id=\"edge19\" class=\"edge\">\n<title>18&#45;&gt;19</title>\n<path fill=\"none\" stroke=\"#000000\" d=\"M1353.3454,-196.2187C1327.921,-183.6275 1298.4512,-169.033 1272.5437,-156.2026\"/>\n<polygon fill=\"#000000\" stroke=\"#000000\" points=\"1274.0556,-153.0457 1263.541,-151.7441 1270.949,-159.3186 1274.0556,-153.0457\"/>\n</g>\n<!-- 22 -->\n<g id=\"node23\" class=\"node\">\n<title>22</title>\n<polygon fill=\"#e99559\" stroke=\"#000000\" points=\"1483,-157 1348,-157 1348,-89 1483,-89 1483,-157\"/>\n<text text-anchor=\"middle\" x=\"1415.5\" y=\"-141.8\" font-family=\"Helvetica,sans-Serif\" font-size=\"14.00\" fill=\"#000000\">BP_High &lt;= 131.5</text>\n<text text-anchor=\"middle\" x=\"1415.5\" y=\"-126.8\" font-family=\"Helvetica,sans-Serif\" font-size=\"14.00\" fill=\"#000000\">samples = 210</text>\n<text text-anchor=\"middle\" x=\"1415.5\" y=\"-111.8\" font-family=\"Helvetica,sans-Serif\" font-size=\"14.00\" fill=\"#000000\">value = [181, 29]</text>\n<text text-anchor=\"middle\" x=\"1415.5\" y=\"-96.8\" font-family=\"Helvetica,sans-Serif\" font-size=\"14.00\" fill=\"#000000\">class = 정상</text>\n</g>\n<!-- 18&#45;&gt;22 -->\n<g id=\"edge22\" class=\"edge\">\n<title>18&#45;&gt;22</title>\n<path fill=\"none\" stroke=\"#000000\" d=\"M1415.5,-192.9465C1415.5,-184.776 1415.5,-175.9318 1415.5,-167.3697\"/>\n<polygon fill=\"#000000\" stroke=\"#000000\" points=\"1419.0001,-167.13 1415.5,-157.13 1412.0001,-167.13 1419.0001,-167.13\"/>\n</g>\n<!-- 20 -->\n<g id=\"node21\" class=\"node\">\n<title>20</title>\n<polygon fill=\"#edaa79\" stroke=\"#000000\" points=\"1129.5,-53 1013.5,-53 1013.5,0 1129.5,0 1129.5,-53\"/>\n<text text-anchor=\"middle\" x=\"1071.5\" y=\"-37.8\" font-family=\"Helvetica,sans-Serif\" font-size=\"14.00\" fill=\"#000000\">samples = 102</text>\n<text text-anchor=\"middle\" x=\"1071.5\" y=\"-22.8\" font-family=\"Helvetica,sans-Serif\" font-size=\"14.00\" fill=\"#000000\">value = [77, 25]</text>\n<text text-anchor=\"middle\" x=\"1071.5\" y=\"-7.8\" font-family=\"Helvetica,sans-Serif\" font-size=\"14.00\" fill=\"#000000\">class = 정상</text>\n</g>\n<!-- 19&#45;&gt;20 -->\n<g id=\"edge20\" class=\"edge\">\n<title>19&#45;&gt;20</title>\n<path fill=\"none\" stroke=\"#000000\" d=\"M1158.2566,-88.9777C1144.7783,-79.2713 1130.1285,-68.7213 1116.7709,-59.1018\"/>\n<polygon fill=\"#000000\" stroke=\"#000000\" points=\"1118.8031,-56.2522 1108.643,-53.2485 1114.7124,-61.9325 1118.8031,-56.2522\"/>\n</g>\n<!-- 21 -->\n<g id=\"node22\" class=\"node\">\n<title>21</title>\n<polygon fill=\"#fdf7f3\" stroke=\"#000000\" points=\"1263.5,-53 1147.5,-53 1147.5,0 1263.5,0 1263.5,-53\"/>\n<text text-anchor=\"middle\" x=\"1205.5\" y=\"-37.8\" font-family=\"Helvetica,sans-Serif\" font-size=\"14.00\" fill=\"#000000\">samples = 31</text>\n<text text-anchor=\"middle\" x=\"1205.5\" y=\"-22.8\" font-family=\"Helvetica,sans-Serif\" font-size=\"14.00\" fill=\"#000000\">value = [16, 15]</text>\n<text text-anchor=\"middle\" x=\"1205.5\" y=\"-7.8\" font-family=\"Helvetica,sans-Serif\" font-size=\"14.00\" fill=\"#000000\">class = 정상</text>\n</g>\n<!-- 19&#45;&gt;21 -->\n<g id=\"edge21\" class=\"edge\">\n<title>19&#45;&gt;21</title>\n<path fill=\"none\" stroke=\"#000000\" d=\"M1205.5,-88.9777C1205.5,-80.7364 1205.5,-71.887 1205.5,-63.5153\"/>\n<polygon fill=\"#000000\" stroke=\"#000000\" points=\"1209.0001,-63.2484 1205.5,-53.2485 1202.0001,-63.2485 1209.0001,-63.2484\"/>\n</g>\n<!-- 23 -->\n<g id=\"node24\" class=\"node\">\n<title>23</title>\n<polygon fill=\"#e78c4a\" stroke=\"#000000\" points=\"1405.5,-53 1281.5,-53 1281.5,0 1405.5,0 1405.5,-53\"/>\n<text text-anchor=\"middle\" x=\"1343.5\" y=\"-37.8\" font-family=\"Helvetica,sans-Serif\" font-size=\"14.00\" fill=\"#000000\">samples = 141</text>\n<text text-anchor=\"middle\" x=\"1343.5\" y=\"-22.8\" font-family=\"Helvetica,sans-Serif\" font-size=\"14.00\" fill=\"#000000\">value = [130, 11]</text>\n<text text-anchor=\"middle\" x=\"1343.5\" y=\"-7.8\" font-family=\"Helvetica,sans-Serif\" font-size=\"14.00\" fill=\"#000000\">class = 정상</text>\n</g>\n<!-- 22&#45;&gt;23 -->\n<g id=\"edge23\" class=\"edge\">\n<title>22&#45;&gt;23</title>\n<path fill=\"none\" stroke=\"#000000\" d=\"M1390.1155,-88.9777C1383.42,-80.0039 1376.1865,-70.3089 1369.461,-61.295\"/>\n<polygon fill=\"#000000\" stroke=\"#000000\" points=\"1372.2427,-59.1704 1363.4574,-53.2485 1366.6323,-63.3565 1372.2427,-59.1704\"/>\n</g>\n<!-- 24 -->\n<g id=\"node25\" class=\"node\">\n<title>24</title>\n<polygon fill=\"#eead7f\" stroke=\"#000000\" points=\"1539.5,-53 1423.5,-53 1423.5,0 1539.5,0 1539.5,-53\"/>\n<text text-anchor=\"middle\" x=\"1481.5\" y=\"-37.8\" font-family=\"Helvetica,sans-Serif\" font-size=\"14.00\" fill=\"#000000\">samples = 69</text>\n<text text-anchor=\"middle\" x=\"1481.5\" y=\"-22.8\" font-family=\"Helvetica,sans-Serif\" font-size=\"14.00\" fill=\"#000000\">value = [51, 18]</text>\n<text text-anchor=\"middle\" x=\"1481.5\" y=\"-7.8\" font-family=\"Helvetica,sans-Serif\" font-size=\"14.00\" fill=\"#000000\">class = 정상</text>\n</g>\n<!-- 22&#45;&gt;24 -->\n<g id=\"edge24\" class=\"edge\">\n<title>22&#45;&gt;24</title>\n<path fill=\"none\" stroke=\"#000000\" d=\"M1438.7691,-88.9777C1444.844,-80.0954 1451.4021,-70.5067 1457.5135,-61.5711\"/>\n<polygon fill=\"#000000\" stroke=\"#000000\" points=\"1460.4493,-63.4785 1463.2057,-53.2485 1454.6714,-59.5267 1460.4493,-63.4785\"/>\n</g>\n<!-- 26 -->\n<g id=\"node27\" class=\"node\">\n<title>26</title>\n<polygon fill=\"#f2be99\" stroke=\"#000000\" points=\"1734.5,-157 1618.5,-157 1618.5,-89 1734.5,-89 1734.5,-157\"/>\n<text text-anchor=\"middle\" x=\"1676.5\" y=\"-141.8\" font-family=\"Helvetica,sans-Serif\" font-size=\"14.00\" fill=\"#000000\">BLDS &lt;= 89.5</text>\n<text text-anchor=\"middle\" x=\"1676.5\" y=\"-126.8\" font-family=\"Helvetica,sans-Serif\" font-size=\"14.00\" fill=\"#000000\">samples = 138</text>\n<text text-anchor=\"middle\" x=\"1676.5\" y=\"-111.8\" font-family=\"Helvetica,sans-Serif\" font-size=\"14.00\" fill=\"#000000\">value = [93, 45]</text>\n<text text-anchor=\"middle\" x=\"1676.5\" y=\"-96.8\" font-family=\"Helvetica,sans-Serif\" font-size=\"14.00\" fill=\"#000000\">class = 정상</text>\n</g>\n<!-- 25&#45;&gt;26 -->\n<g id=\"edge26\" class=\"edge\">\n<title>25&#45;&gt;26</title>\n<path fill=\"none\" stroke=\"#000000\" d=\"M1676.5,-192.9465C1676.5,-184.776 1676.5,-175.9318 1676.5,-167.3697\"/>\n<polygon fill=\"#000000\" stroke=\"#000000\" points=\"1680.0001,-167.13 1676.5,-157.13 1673.0001,-167.13 1680.0001,-167.13\"/>\n</g>\n<!-- 29 -->\n<g id=\"node30\" class=\"node\">\n<title>29</title>\n<polygon fill=\"#ebf5fc\" stroke=\"#000000\" points=\"1933.5,-157 1817.5,-157 1817.5,-89 1933.5,-89 1933.5,-157\"/>\n<text text-anchor=\"middle\" x=\"1875.5\" y=\"-141.8\" font-family=\"Helvetica,sans-Serif\" font-size=\"14.00\" fill=\"#000000\">age &lt;= 12.5</text>\n<text text-anchor=\"middle\" x=\"1875.5\" y=\"-126.8\" font-family=\"Helvetica,sans-Serif\" font-size=\"14.00\" fill=\"#000000\">samples = 135</text>\n<text text-anchor=\"middle\" x=\"1875.5\" y=\"-111.8\" font-family=\"Helvetica,sans-Serif\" font-size=\"14.00\" fill=\"#000000\">value = [64, 71]</text>\n<text text-anchor=\"middle\" x=\"1875.5\" y=\"-96.8\" font-family=\"Helvetica,sans-Serif\" font-size=\"14.00\" fill=\"#000000\">class = 비만</text>\n</g>\n<!-- 25&#45;&gt;29 -->\n<g id=\"edge29\" class=\"edge\">\n<title>25&#45;&gt;29</title>\n<path fill=\"none\" stroke=\"#000000\" d=\"M1741.66,-192.9465C1762.9846,-181.802 1786.7077,-169.404 1808.1878,-158.1782\"/>\n<polygon fill=\"#000000\" stroke=\"#000000\" points=\"1810.0012,-161.1797 1817.2428,-153.446 1806.7589,-154.9759 1810.0012,-161.1797\"/>\n</g>\n<!-- 27 -->\n<g id=\"node28\" class=\"node\">\n<title>27</title>\n<polygon fill=\"#eb9d65\" stroke=\"#000000\" points=\"1665,-53 1558,-53 1558,0 1665,0 1665,-53\"/>\n<text text-anchor=\"middle\" x=\"1611.5\" y=\"-37.8\" font-family=\"Helvetica,sans-Serif\" font-size=\"14.00\" fill=\"#000000\">samples = 33</text>\n<text text-anchor=\"middle\" x=\"1611.5\" y=\"-22.8\" font-family=\"Helvetica,sans-Serif\" font-size=\"14.00\" fill=\"#000000\">value = [27, 6]</text>\n<text text-anchor=\"middle\" x=\"1611.5\" y=\"-7.8\" font-family=\"Helvetica,sans-Serif\" font-size=\"14.00\" fill=\"#000000\">class = 정상</text>\n</g>\n<!-- 26&#45;&gt;27 -->\n<g id=\"edge27\" class=\"edge\">\n<title>26&#45;&gt;27</title>\n<path fill=\"none\" stroke=\"#000000\" d=\"M1653.5834,-88.9777C1647.6006,-80.0954 1641.1418,-70.5067 1635.123,-61.5711\"/>\n<polygon fill=\"#000000\" stroke=\"#000000\" points=\"1638.0067,-59.5871 1629.5171,-53.2485 1632.2009,-63.4978 1638.0067,-59.5871\"/>\n</g>\n<!-- 28 -->\n<g id=\"node29\" class=\"node\">\n<title>28</title>\n<polygon fill=\"#f4cbae\" stroke=\"#000000\" points=\"1799.5,-53 1683.5,-53 1683.5,0 1799.5,0 1799.5,-53\"/>\n<text text-anchor=\"middle\" x=\"1741.5\" y=\"-37.8\" font-family=\"Helvetica,sans-Serif\" font-size=\"14.00\" fill=\"#000000\">samples = 105</text>\n<text text-anchor=\"middle\" x=\"1741.5\" y=\"-22.8\" font-family=\"Helvetica,sans-Serif\" font-size=\"14.00\" fill=\"#000000\">value = [66, 39]</text>\n<text text-anchor=\"middle\" x=\"1741.5\" y=\"-7.8\" font-family=\"Helvetica,sans-Serif\" font-size=\"14.00\" fill=\"#000000\">class = 정상</text>\n</g>\n<!-- 26&#45;&gt;28 -->\n<g id=\"edge28\" class=\"edge\">\n<title>26&#45;&gt;28</title>\n<path fill=\"none\" stroke=\"#000000\" d=\"M1699.4166,-88.9777C1705.3994,-80.0954 1711.8582,-70.5067 1717.877,-61.5711\"/>\n<polygon fill=\"#000000\" stroke=\"#000000\" points=\"1720.7991,-63.4978 1723.4829,-53.2485 1714.9933,-59.5871 1720.7991,-63.4978\"/>\n</g>\n<!-- 30 -->\n<g id=\"node31\" class=\"node\">\n<title>30</title>\n<polygon fill=\"#97cbf1\" stroke=\"#000000\" points=\"1933.5,-53 1817.5,-53 1817.5,0 1933.5,0 1933.5,-53\"/>\n<text text-anchor=\"middle\" x=\"1875.5\" y=\"-37.8\" font-family=\"Helvetica,sans-Serif\" font-size=\"14.00\" fill=\"#000000\">samples = 56</text>\n<text text-anchor=\"middle\" x=\"1875.5\" y=\"-22.8\" font-family=\"Helvetica,sans-Serif\" font-size=\"14.00\" fill=\"#000000\">value = [18, 38]</text>\n<text text-anchor=\"middle\" x=\"1875.5\" y=\"-7.8\" font-family=\"Helvetica,sans-Serif\" font-size=\"14.00\" fill=\"#000000\">class = 비만</text>\n</g>\n<!-- 29&#45;&gt;30 -->\n<g id=\"edge30\" class=\"edge\">\n<title>29&#45;&gt;30</title>\n<path fill=\"none\" stroke=\"#000000\" d=\"M1875.5,-88.9777C1875.5,-80.7364 1875.5,-71.887 1875.5,-63.5153\"/>\n<polygon fill=\"#000000\" stroke=\"#000000\" points=\"1879.0001,-63.2484 1875.5,-53.2485 1872.0001,-63.2485 1879.0001,-63.2484\"/>\n</g>\n<!-- 31 -->\n<g id=\"node32\" class=\"node\">\n<title>31</title>\n<polygon fill=\"#f8dbc7\" stroke=\"#000000\" points=\"2067.5,-53 1951.5,-53 1951.5,0 2067.5,0 2067.5,-53\"/>\n<text text-anchor=\"middle\" x=\"2009.5\" y=\"-37.8\" font-family=\"Helvetica,sans-Serif\" font-size=\"14.00\" fill=\"#000000\">samples = 79</text>\n<text text-anchor=\"middle\" x=\"2009.5\" y=\"-22.8\" font-family=\"Helvetica,sans-Serif\" font-size=\"14.00\" fill=\"#000000\">value = [46, 33]</text>\n<text text-anchor=\"middle\" x=\"2009.5\" y=\"-7.8\" font-family=\"Helvetica,sans-Serif\" font-size=\"14.00\" fill=\"#000000\">class = 정상</text>\n</g>\n<!-- 29&#45;&gt;31 -->\n<g id=\"edge31\" class=\"edge\">\n<title>29&#45;&gt;31</title>\n<path fill=\"none\" stroke=\"#000000\" d=\"M1922.7434,-88.9777C1936.2217,-79.2713 1950.8715,-68.7213 1964.2291,-59.1018\"/>\n<polygon fill=\"#000000\" stroke=\"#000000\" points=\"1966.2876,-61.9325 1972.357,-53.2485 1962.1969,-56.2522 1966.2876,-61.9325\"/>\n</g>\n<!-- 33 -->\n<g id=\"node34\" class=\"node\">\n<title>33</title>\n<polygon fill=\"#b4daf5\" stroke=\"#000000\" points=\"2620.5,-365 2488.5,-365 2488.5,-297 2620.5,-297 2620.5,-365\"/>\n<text text-anchor=\"middle\" x=\"2554.5\" y=\"-349.8\" font-family=\"Helvetica,sans-Serif\" font-size=\"14.00\" fill=\"#000000\">gender &lt;= 0.5</text>\n<text text-anchor=\"middle\" x=\"2554.5\" y=\"-334.8\" font-family=\"Helvetica,sans-Serif\" font-size=\"14.00\" fill=\"#000000\">samples = 715</text>\n<text text-anchor=\"middle\" x=\"2554.5\" y=\"-319.8\" font-family=\"Helvetica,sans-Serif\" font-size=\"14.00\" fill=\"#000000\">value = [274, 441]</text>\n<text text-anchor=\"middle\" x=\"2554.5\" y=\"-304.8\" font-family=\"Helvetica,sans-Serif\" font-size=\"14.00\" fill=\"#000000\">class = 비만</text>\n</g>\n<!-- 32&#45;&gt;33 -->\n<g id=\"edge33\" class=\"edge\">\n<title>32&#45;&gt;33</title>\n<path fill=\"none\" stroke=\"#000000\" d=\"M2554.5,-400.9465C2554.5,-392.776 2554.5,-383.9318 2554.5,-375.3697\"/>\n<polygon fill=\"#000000\" stroke=\"#000000\" points=\"2558.0001,-375.13 2554.5,-365.13 2551.0001,-375.13 2558.0001,-375.13\"/>\n</g>\n<!-- 48 -->\n<g id=\"node49\" class=\"node\">\n<title>48</title>\n<polygon fill=\"#4aa5e7\" stroke=\"#000000\" points=\"3445.5,-365 3321.5,-365 3321.5,-297 3445.5,-297 3445.5,-365\"/>\n<text text-anchor=\"middle\" x=\"3383.5\" y=\"-349.8\" font-family=\"Helvetica,sans-Serif\" font-size=\"14.00\" fill=\"#000000\">waist &lt;= 94.05</text>\n<text text-anchor=\"middle\" x=\"3383.5\" y=\"-334.8\" font-family=\"Helvetica,sans-Serif\" font-size=\"14.00\" fill=\"#000000\">samples = 503</text>\n<text text-anchor=\"middle\" x=\"3383.5\" y=\"-319.8\" font-family=\"Helvetica,sans-Serif\" font-size=\"14.00\" fill=\"#000000\">value = [39, 464]</text>\n<text text-anchor=\"middle\" x=\"3383.5\" y=\"-304.8\" font-family=\"Helvetica,sans-Serif\" font-size=\"14.00\" fill=\"#000000\">class = 비만</text>\n</g>\n<!-- 32&#45;&gt;48 -->\n<g id=\"edge48\" class=\"edge\">\n<title>32&#45;&gt;48</title>\n<path fill=\"none\" stroke=\"#000000\" d=\"M2620.5908,-426.7088C2773.733,-407.4967 3151.9105,-360.0534 3311.0656,-340.0871\"/>\n<polygon fill=\"#000000\" stroke=\"#000000\" points=\"3311.7409,-343.5299 3321.2274,-338.8122 3310.8695,-336.5843 3311.7409,-343.5299\"/>\n</g>\n<!-- 34 -->\n<g id=\"node35\" class=\"node\">\n<title>34</title>\n<polygon fill=\"#dceefa\" stroke=\"#000000\" points=\"2552.5,-261 2420.5,-261 2420.5,-193 2552.5,-193 2552.5,-261\"/>\n<text text-anchor=\"middle\" x=\"2486.5\" y=\"-245.8\" font-family=\"Helvetica,sans-Serif\" font-size=\"14.00\" fill=\"#000000\">waist &lt;= 88.1</text>\n<text text-anchor=\"middle\" x=\"2486.5\" y=\"-230.8\" font-family=\"Helvetica,sans-Serif\" font-size=\"14.00\" fill=\"#000000\">samples = 481</text>\n<text text-anchor=\"middle\" x=\"2486.5\" y=\"-215.8\" font-family=\"Helvetica,sans-Serif\" font-size=\"14.00\" fill=\"#000000\">value = [217, 264]</text>\n<text text-anchor=\"middle\" x=\"2486.5\" y=\"-200.8\" font-family=\"Helvetica,sans-Serif\" font-size=\"14.00\" fill=\"#000000\">class = 비만</text>\n</g>\n<!-- 33&#45;&gt;34 -->\n<g id=\"edge34\" class=\"edge\">\n<title>33&#45;&gt;34</title>\n<path fill=\"none\" stroke=\"#000000\" d=\"M2532.2343,-296.9465C2526.5398,-288.2373 2520.3448,-278.7626 2514.4062,-269.6801\"/>\n<polygon fill=\"#000000\" stroke=\"#000000\" points=\"2517.2177,-267.5843 2508.8158,-261.13 2511.3589,-271.4151 2517.2177,-267.5843\"/>\n</g>\n<!-- 41 -->\n<g id=\"node42\" class=\"node\">\n<title>41</title>\n<polygon fill=\"#79bded\" stroke=\"#000000\" points=\"2807.5,-261 2683.5,-261 2683.5,-193 2807.5,-193 2807.5,-261\"/>\n<text text-anchor=\"middle\" x=\"2745.5\" y=\"-245.8\" font-family=\"Helvetica,sans-Serif\" font-size=\"14.00\" fill=\"#000000\">HDL &lt;= 84.5</text>\n<text text-anchor=\"middle\" x=\"2745.5\" y=\"-230.8\" font-family=\"Helvetica,sans-Serif\" font-size=\"14.00\" fill=\"#000000\">samples = 234</text>\n<text text-anchor=\"middle\" x=\"2745.5\" y=\"-215.8\" font-family=\"Helvetica,sans-Serif\" font-size=\"14.00\" fill=\"#000000\">value = [57, 177]</text>\n<text text-anchor=\"middle\" x=\"2745.5\" y=\"-200.8\" font-family=\"Helvetica,sans-Serif\" font-size=\"14.00\" fill=\"#000000\">class = 비만</text>\n</g>\n<!-- 33&#45;&gt;41 -->\n<g id=\"edge41\" class=\"edge\">\n<title>33&#45;&gt;41</title>\n<path fill=\"none\" stroke=\"#000000\" d=\"M2617.0405,-296.9465C2635.4492,-286.9229 2655.7202,-275.8853 2674.6121,-265.5986\"/>\n<polygon fill=\"#000000\" stroke=\"#000000\" points=\"2676.3625,-268.6308 2683.4713,-260.7748 2673.0151,-262.4831 2676.3625,-268.6308\"/>\n</g>\n<!-- 35 -->\n<g id=\"node36\" class=\"node\">\n<title>35</title>\n<polygon fill=\"#fbebe0\" stroke=\"#000000\" points=\"2343.5,-157 2211.5,-157 2211.5,-89 2343.5,-89 2343.5,-157\"/>\n<text text-anchor=\"middle\" x=\"2277.5\" y=\"-141.8\" font-family=\"Helvetica,sans-Serif\" font-size=\"14.00\" fill=\"#000000\">smoke &lt;= 0.5</text>\n<text text-anchor=\"middle\" x=\"2277.5\" y=\"-126.8\" font-family=\"Helvetica,sans-Serif\" font-size=\"14.00\" fill=\"#000000\">samples = 291</text>\n<text text-anchor=\"middle\" x=\"2277.5\" y=\"-111.8\" font-family=\"Helvetica,sans-Serif\" font-size=\"14.00\" fill=\"#000000\">value = [158, 133]</text>\n<text text-anchor=\"middle\" x=\"2277.5\" y=\"-96.8\" font-family=\"Helvetica,sans-Serif\" font-size=\"14.00\" fill=\"#000000\">class = 정상</text>\n</g>\n<!-- 34&#45;&gt;35 -->\n<g id=\"edge35\" class=\"edge\">\n<title>34&#45;&gt;35</title>\n<path fill=\"none\" stroke=\"#000000\" d=\"M2420.3711,-194.0938C2398.8237,-183.3716 2374.7488,-171.3918 2352.5937,-160.3672\"/>\n<polygon fill=\"#000000\" stroke=\"#000000\" points=\"2354.0693,-157.1921 2343.5572,-155.8705 2350.9507,-163.4591 2354.0693,-157.1921\"/>\n</g>\n<!-- 38 -->\n<g id=\"node39\" class=\"node\">\n<title>38</title>\n<polygon fill=\"#92c9f1\" stroke=\"#000000\" points=\"2548.5,-157 2424.5,-157 2424.5,-89 2548.5,-89 2548.5,-157\"/>\n<text text-anchor=\"middle\" x=\"2486.5\" y=\"-141.8\" font-family=\"Helvetica,sans-Serif\" font-size=\"14.00\" fill=\"#000000\">HDL &lt;= 69.0</text>\n<text text-anchor=\"middle\" x=\"2486.5\" y=\"-126.8\" font-family=\"Helvetica,sans-Serif\" font-size=\"14.00\" fill=\"#000000\">samples = 190</text>\n<text text-anchor=\"middle\" x=\"2486.5\" y=\"-111.8\" font-family=\"Helvetica,sans-Serif\" font-size=\"14.00\" fill=\"#000000\">value = [59, 131]</text>\n<text text-anchor=\"middle\" x=\"2486.5\" y=\"-96.8\" font-family=\"Helvetica,sans-Serif\" font-size=\"14.00\" fill=\"#000000\">class = 비만</text>\n</g>\n<!-- 34&#45;&gt;38 -->\n<g id=\"edge38\" class=\"edge\">\n<title>34&#45;&gt;38</title>\n<path fill=\"none\" stroke=\"#000000\" d=\"M2486.5,-192.9465C2486.5,-184.776 2486.5,-175.9318 2486.5,-167.3697\"/>\n<polygon fill=\"#000000\" stroke=\"#000000\" points=\"2490.0001,-167.13 2486.5,-157.13 2483.0001,-167.13 2490.0001,-167.13\"/>\n</g>\n<!-- 36 -->\n<g id=\"node37\" class=\"node\">\n<title>36</title>\n<polygon fill=\"#f3c3a0\" stroke=\"#000000\" points=\"2201.5,-53 2085.5,-53 2085.5,0 2201.5,0 2201.5,-53\"/>\n<text text-anchor=\"middle\" x=\"2143.5\" y=\"-37.8\" font-family=\"Helvetica,sans-Serif\" font-size=\"14.00\" fill=\"#000000\">samples = 111</text>\n<text text-anchor=\"middle\" x=\"2143.5\" y=\"-22.8\" font-family=\"Helvetica,sans-Serif\" font-size=\"14.00\" fill=\"#000000\">value = [73, 38]</text>\n<text text-anchor=\"middle\" x=\"2143.5\" y=\"-7.8\" font-family=\"Helvetica,sans-Serif\" font-size=\"14.00\" fill=\"#000000\">class = 정상</text>\n</g>\n<!-- 35&#45;&gt;36 -->\n<g id=\"edge36\" class=\"edge\">\n<title>35&#45;&gt;36</title>\n<path fill=\"none\" stroke=\"#000000\" d=\"M2230.2566,-88.9777C2216.7783,-79.2713 2202.1285,-68.7213 2188.7709,-59.1018\"/>\n<polygon fill=\"#000000\" stroke=\"#000000\" points=\"2190.8031,-56.2522 2180.643,-53.2485 2186.7124,-61.9325 2190.8031,-56.2522\"/>\n</g>\n<!-- 37 -->\n<g id=\"node38\" class=\"node\">\n<title>37</title>\n<polygon fill=\"#eaf5fc\" stroke=\"#000000\" points=\"2335.5,-53 2219.5,-53 2219.5,0 2335.5,0 2335.5,-53\"/>\n<text text-anchor=\"middle\" x=\"2277.5\" y=\"-37.8\" font-family=\"Helvetica,sans-Serif\" font-size=\"14.00\" fill=\"#000000\">samples = 180</text>\n<text text-anchor=\"middle\" x=\"2277.5\" y=\"-22.8\" font-family=\"Helvetica,sans-Serif\" font-size=\"14.00\" fill=\"#000000\">value = [85, 95]</text>\n<text text-anchor=\"middle\" x=\"2277.5\" y=\"-7.8\" font-family=\"Helvetica,sans-Serif\" font-size=\"14.00\" fill=\"#000000\">class = 비만</text>\n</g>\n<!-- 35&#45;&gt;37 -->\n<g id=\"edge37\" class=\"edge\">\n<title>35&#45;&gt;37</title>\n<path fill=\"none\" stroke=\"#000000\" d=\"M2277.5,-88.9777C2277.5,-80.7364 2277.5,-71.887 2277.5,-63.5153\"/>\n<polygon fill=\"#000000\" stroke=\"#000000\" points=\"2281.0001,-63.2484 2277.5,-53.2485 2274.0001,-63.2485 2281.0001,-63.2484\"/>\n</g>\n<!-- 39 -->\n<g id=\"node40\" class=\"node\">\n<title>39</title>\n<polygon fill=\"#84c2ef\" stroke=\"#000000\" points=\"2477.5,-53 2353.5,-53 2353.5,0 2477.5,0 2477.5,-53\"/>\n<text text-anchor=\"middle\" x=\"2415.5\" y=\"-37.8\" font-family=\"Helvetica,sans-Serif\" font-size=\"14.00\" fill=\"#000000\">samples = 178</text>\n<text text-anchor=\"middle\" x=\"2415.5\" y=\"-22.8\" font-family=\"Helvetica,sans-Serif\" font-size=\"14.00\" fill=\"#000000\">value = [49, 129]</text>\n<text text-anchor=\"middle\" x=\"2415.5\" y=\"-7.8\" font-family=\"Helvetica,sans-Serif\" font-size=\"14.00\" fill=\"#000000\">class = 비만</text>\n</g>\n<!-- 38&#45;&gt;39 -->\n<g id=\"edge39\" class=\"edge\">\n<title>38&#45;&gt;39</title>\n<path fill=\"none\" stroke=\"#000000\" d=\"M2461.4681,-88.9777C2454.9329,-80.0954 2447.878,-70.5067 2441.3036,-61.5711\"/>\n<polygon fill=\"#000000\" stroke=\"#000000\" points=\"2443.9257,-59.229 2435.1802,-53.2485 2438.2874,-63.3775 2443.9257,-59.229\"/>\n</g>\n<!-- 40 -->\n<g id=\"node41\" class=\"node\">\n<title>40</title>\n<polygon fill=\"#ea9a61\" stroke=\"#000000\" points=\"2603,-53 2496,-53 2496,0 2603,0 2603,-53\"/>\n<text text-anchor=\"middle\" x=\"2549.5\" y=\"-37.8\" font-family=\"Helvetica,sans-Serif\" font-size=\"14.00\" fill=\"#000000\">samples = 12</text>\n<text text-anchor=\"middle\" x=\"2549.5\" y=\"-22.8\" font-family=\"Helvetica,sans-Serif\" font-size=\"14.00\" fill=\"#000000\">value = [10, 2]</text>\n<text text-anchor=\"middle\" x=\"2549.5\" y=\"-7.8\" font-family=\"Helvetica,sans-Serif\" font-size=\"14.00\" fill=\"#000000\">class = 정상</text>\n</g>\n<!-- 38&#45;&gt;40 -->\n<g id=\"edge40\" class=\"edge\">\n<title>38&#45;&gt;40</title>\n<path fill=\"none\" stroke=\"#000000\" d=\"M2508.7114,-88.9777C2514.4504,-80.187 2520.6412,-70.7044 2526.4233,-61.8477\"/>\n<polygon fill=\"#000000\" stroke=\"#000000\" points=\"2529.5013,-63.5354 2532.0373,-53.2485 2523.6398,-59.7087 2529.5013,-63.5354\"/>\n</g>\n<!-- 42 -->\n<g id=\"node43\" class=\"node\">\n<title>42</title>\n<polygon fill=\"#74baed\" stroke=\"#000000\" points=\"2813,-157 2678,-157 2678,-89 2813,-89 2813,-157\"/>\n<text text-anchor=\"middle\" x=\"2745.5\" y=\"-141.8\" font-family=\"Helvetica,sans-Serif\" font-size=\"14.00\" fill=\"#000000\">BP_High &lt;= 139.5</text>\n<text text-anchor=\"middle\" x=\"2745.5\" y=\"-126.8\" font-family=\"Helvetica,sans-Serif\" font-size=\"14.00\" fill=\"#000000\">samples = 227</text>\n<text text-anchor=\"middle\" x=\"2745.5\" y=\"-111.8\" font-family=\"Helvetica,sans-Serif\" font-size=\"14.00\" fill=\"#000000\">value = [52, 175]</text>\n<text text-anchor=\"middle\" x=\"2745.5\" y=\"-96.8\" font-family=\"Helvetica,sans-Serif\" font-size=\"14.00\" fill=\"#000000\">class = 비만</text>\n</g>\n<!-- 41&#45;&gt;42 -->\n<g id=\"edge42\" class=\"edge\">\n<title>41&#45;&gt;42</title>\n<path fill=\"none\" stroke=\"#000000\" d=\"M2745.5,-192.9465C2745.5,-184.776 2745.5,-175.9318 2745.5,-167.3697\"/>\n<polygon fill=\"#000000\" stroke=\"#000000\" points=\"2749.0001,-167.13 2745.5,-157.13 2742.0001,-167.13 2749.0001,-167.13\"/>\n</g>\n<!-- 45 -->\n<g id=\"node46\" class=\"node\">\n<title>45</title>\n<polygon fill=\"#efb388\" stroke=\"#000000\" points=\"3002.5,-157 2892.5,-157 2892.5,-89 3002.5,-89 3002.5,-157\"/>\n<text text-anchor=\"middle\" x=\"2947.5\" y=\"-141.8\" font-family=\"Helvetica,sans-Serif\" font-size=\"14.00\" fill=\"#000000\">waist &lt;= 87.75</text>\n<text text-anchor=\"middle\" x=\"2947.5\" y=\"-126.8\" font-family=\"Helvetica,sans-Serif\" font-size=\"14.00\" fill=\"#000000\">samples = 7</text>\n<text text-anchor=\"middle\" x=\"2947.5\" y=\"-111.8\" font-family=\"Helvetica,sans-Serif\" font-size=\"14.00\" fill=\"#000000\">value = [5, 2]</text>\n<text text-anchor=\"middle\" x=\"2947.5\" y=\"-96.8\" font-family=\"Helvetica,sans-Serif\" font-size=\"14.00\" fill=\"#000000\">class = 정상</text>\n</g>\n<!-- 41&#45;&gt;45 -->\n<g id=\"edge45\" class=\"edge\">\n<title>41&#45;&gt;45</title>\n<path fill=\"none\" stroke=\"#000000\" d=\"M2807.7549,-194.948C2831.7052,-182.6171 2859.0815,-168.5224 2883.219,-156.0952\"/>\n<polygon fill=\"#000000\" stroke=\"#000000\" points=\"2885.0087,-159.1104 2892.2974,-151.4211 2881.8044,-152.8869 2885.0087,-159.1104\"/>\n</g>\n<!-- 43 -->\n<g id=\"node44\" class=\"node\">\n<title>43</title>\n<polygon fill=\"#68b4eb\" stroke=\"#000000\" points=\"2745.5,-53 2621.5,-53 2621.5,0 2745.5,0 2745.5,-53\"/>\n<text text-anchor=\"middle\" x=\"2683.5\" y=\"-37.8\" font-family=\"Helvetica,sans-Serif\" font-size=\"14.00\" fill=\"#000000\">samples = 188</text>\n<text text-anchor=\"middle\" x=\"2683.5\" y=\"-22.8\" font-family=\"Helvetica,sans-Serif\" font-size=\"14.00\" fill=\"#000000\">value = [36, 152]</text>\n<text text-anchor=\"middle\" x=\"2683.5\" y=\"-7.8\" font-family=\"Helvetica,sans-Serif\" font-size=\"14.00\" fill=\"#000000\">class = 비만</text>\n</g>\n<!-- 42&#45;&gt;43 -->\n<g id=\"edge43\" class=\"edge\">\n<title>42&#45;&gt;43</title>\n<path fill=\"none\" stroke=\"#000000\" d=\"M2723.6411,-88.9777C2717.9932,-80.187 2711.9007,-70.7044 2706.2104,-61.8477\"/>\n<polygon fill=\"#000000\" stroke=\"#000000\" points=\"2709.0356,-59.7698 2700.6856,-53.2485 2703.1463,-63.5536 2709.0356,-59.7698\"/>\n</g>\n<!-- 44 -->\n<g id=\"node45\" class=\"node\">\n<title>44</title>\n<polygon fill=\"#c3e1f7\" stroke=\"#000000\" points=\"2879.5,-53 2763.5,-53 2763.5,0 2879.5,0 2879.5,-53\"/>\n<text text-anchor=\"middle\" x=\"2821.5\" y=\"-37.8\" font-family=\"Helvetica,sans-Serif\" font-size=\"14.00\" fill=\"#000000\">samples = 39</text>\n<text text-anchor=\"middle\" x=\"2821.5\" y=\"-22.8\" font-family=\"Helvetica,sans-Serif\" font-size=\"14.00\" fill=\"#000000\">value = [16, 23]</text>\n<text text-anchor=\"middle\" x=\"2821.5\" y=\"-7.8\" font-family=\"Helvetica,sans-Serif\" font-size=\"14.00\" fill=\"#000000\">class = 비만</text>\n</g>\n<!-- 42&#45;&gt;44 -->\n<g id=\"edge44\" class=\"edge\">\n<title>42&#45;&gt;44</title>\n<path fill=\"none\" stroke=\"#000000\" d=\"M2772.2948,-88.9777C2779.3622,-80.0039 2786.9976,-70.3089 2794.0967,-61.295\"/>\n<polygon fill=\"#000000\" stroke=\"#000000\" points=\"2796.9963,-63.2701 2800.4338,-53.2485 2791.497,-58.9391 2796.9963,-63.2701\"/>\n</g>\n<!-- 46 -->\n<g id=\"node47\" class=\"node\">\n<title>46</title>\n<polygon fill=\"#e58139\" stroke=\"#000000\" points=\"2997,-53 2898,-53 2898,0 2997,0 2997,-53\"/>\n<text text-anchor=\"middle\" x=\"2947.5\" y=\"-37.8\" font-family=\"Helvetica,sans-Serif\" font-size=\"14.00\" fill=\"#000000\">samples = 4</text>\n<text text-anchor=\"middle\" x=\"2947.5\" y=\"-22.8\" font-family=\"Helvetica,sans-Serif\" font-size=\"14.00\" fill=\"#000000\">value = [4, 0]</text>\n<text text-anchor=\"middle\" x=\"2947.5\" y=\"-7.8\" font-family=\"Helvetica,sans-Serif\" font-size=\"14.00\" fill=\"#000000\">class = 정상</text>\n</g>\n<!-- 45&#45;&gt;46 -->\n<g id=\"edge46\" class=\"edge\">\n<title>45&#45;&gt;46</title>\n<path fill=\"none\" stroke=\"#000000\" d=\"M2947.5,-88.9777C2947.5,-80.7364 2947.5,-71.887 2947.5,-63.5153\"/>\n<polygon fill=\"#000000\" stroke=\"#000000\" points=\"2951.0001,-63.2484 2947.5,-53.2485 2944.0001,-63.2485 2951.0001,-63.2484\"/>\n</g>\n<!-- 47 -->\n<g id=\"node48\" class=\"node\">\n<title>47</title>\n<polygon fill=\"#9ccef2\" stroke=\"#000000\" points=\"3114,-53 3015,-53 3015,0 3114,0 3114,-53\"/>\n<text text-anchor=\"middle\" x=\"3064.5\" y=\"-37.8\" font-family=\"Helvetica,sans-Serif\" font-size=\"14.00\" fill=\"#000000\">samples = 3</text>\n<text text-anchor=\"middle\" x=\"3064.5\" y=\"-22.8\" font-family=\"Helvetica,sans-Serif\" font-size=\"14.00\" fill=\"#000000\">value = [1, 2]</text>\n<text text-anchor=\"middle\" x=\"3064.5\" y=\"-7.8\" font-family=\"Helvetica,sans-Serif\" font-size=\"14.00\" fill=\"#000000\">class = 비만</text>\n</g>\n<!-- 45&#45;&gt;47 -->\n<g id=\"edge47\" class=\"edge\">\n<title>45&#45;&gt;47</title>\n<path fill=\"none\" stroke=\"#000000\" d=\"M2988.7498,-88.9777C3000.2961,-79.4545 3012.8271,-69.1191 3024.311,-59.6473\"/>\n<polygon fill=\"#000000\" stroke=\"#000000\" points=\"3026.5816,-62.3115 3032.0692,-53.2485 3022.1276,-56.9113 3026.5816,-62.3115\"/>\n</g>\n<!-- 49 -->\n<g id=\"node50\" class=\"node\">\n<title>49</title>\n<polygon fill=\"#5baeea\" stroke=\"#000000\" points=\"3451,-261 3316,-261 3316,-193 3451,-193 3451,-261\"/>\n<text text-anchor=\"middle\" x=\"3383.5\" y=\"-245.8\" font-family=\"Helvetica,sans-Serif\" font-size=\"14.00\" fill=\"#000000\">BP_High &lt;= 157.5</text>\n<text text-anchor=\"middle\" x=\"3383.5\" y=\"-230.8\" font-family=\"Helvetica,sans-Serif\" font-size=\"14.00\" fill=\"#000000\">samples = 196</text>\n<text text-anchor=\"middle\" x=\"3383.5\" y=\"-215.8\" font-family=\"Helvetica,sans-Serif\" font-size=\"14.00\" fill=\"#000000\">value = [29, 167]</text>\n<text text-anchor=\"middle\" x=\"3383.5\" y=\"-200.8\" font-family=\"Helvetica,sans-Serif\" font-size=\"14.00\" fill=\"#000000\">class = 비만</text>\n</g>\n<!-- 48&#45;&gt;49 -->\n<g id=\"edge49\" class=\"edge\">\n<title>48&#45;&gt;49</title>\n<path fill=\"none\" stroke=\"#000000\" d=\"M3383.5,-296.9465C3383.5,-288.776 3383.5,-279.9318 3383.5,-271.3697\"/>\n<polygon fill=\"#000000\" stroke=\"#000000\" points=\"3387.0001,-271.13 3383.5,-261.13 3380.0001,-271.13 3387.0001,-271.13\"/>\n</g>\n<!-- 56 -->\n<g id=\"node57\" class=\"node\">\n<title>56</title>\n<polygon fill=\"#40a0e6\" stroke=\"#000000\" points=\"3803.5,-261 3679.5,-261 3679.5,-193 3803.5,-193 3803.5,-261\"/>\n<text text-anchor=\"middle\" x=\"3741.5\" y=\"-245.8\" font-family=\"Helvetica,sans-Serif\" font-size=\"14.00\" fill=\"#000000\">HDL &lt;= 85.0</text>\n<text text-anchor=\"middle\" x=\"3741.5\" y=\"-230.8\" font-family=\"Helvetica,sans-Serif\" font-size=\"14.00\" fill=\"#000000\">samples = 307</text>\n<text text-anchor=\"middle\" x=\"3741.5\" y=\"-215.8\" font-family=\"Helvetica,sans-Serif\" font-size=\"14.00\" fill=\"#000000\">value = [10, 297]</text>\n<text text-anchor=\"middle\" x=\"3741.5\" y=\"-200.8\" font-family=\"Helvetica,sans-Serif\" font-size=\"14.00\" fill=\"#000000\">class = 비만</text>\n</g>\n<!-- 48&#45;&gt;56 -->\n<g id=\"edge56\" class=\"edge\">\n<title>48&#45;&gt;56</title>\n<path fill=\"none\" stroke=\"#000000\" d=\"M3445.8588,-312.8846C3508.1684,-294.7835 3603.8769,-266.9799 3669.4109,-247.9421\"/>\n<polygon fill=\"#000000\" stroke=\"#000000\" points=\"3670.6296,-251.2328 3679.2562,-245.082 3668.6768,-244.5107 3670.6296,-251.2328\"/>\n</g>\n<!-- 50 -->\n<g id=\"node51\" class=\"node\">\n<title>50</title>\n<polygon fill=\"#57ace9\" stroke=\"#000000\" points=\"3380.5,-157 3256.5,-157 3256.5,-89 3380.5,-89 3380.5,-157\"/>\n<text text-anchor=\"middle\" x=\"3318.5\" y=\"-141.8\" font-family=\"Helvetica,sans-Serif\" font-size=\"14.00\" fill=\"#000000\">HDL &lt;= 100.0</text>\n<text text-anchor=\"middle\" x=\"3318.5\" y=\"-126.8\" font-family=\"Helvetica,sans-Serif\" font-size=\"14.00\" fill=\"#000000\">samples = 189</text>\n<text text-anchor=\"middle\" x=\"3318.5\" y=\"-111.8\" font-family=\"Helvetica,sans-Serif\" font-size=\"14.00\" fill=\"#000000\">value = [25, 164]</text>\n<text text-anchor=\"middle\" x=\"3318.5\" y=\"-96.8\" font-family=\"Helvetica,sans-Serif\" font-size=\"14.00\" fill=\"#000000\">class = 비만</text>\n</g>\n<!-- 49&#45;&gt;50 -->\n<g id=\"edge50\" class=\"edge\">\n<title>49&#45;&gt;50</title>\n<path fill=\"none\" stroke=\"#000000\" d=\"M3362.2166,-192.9465C3356.7733,-184.2373 3350.8516,-174.7626 3345.175,-165.6801\"/>\n<polygon fill=\"#000000\" stroke=\"#000000\" points=\"3348.0993,-163.755 3339.8312,-157.13 3342.1633,-167.465 3348.0993,-163.755\"/>\n</g>\n<!-- 53 -->\n<g id=\"node54\" class=\"node\">\n<title>53</title>\n<polygon fill=\"#f8e0ce\" stroke=\"#000000\" points=\"3498,-157 3399,-157 3399,-89 3498,-89 3498,-157\"/>\n<text text-anchor=\"middle\" x=\"3448.5\" y=\"-141.8\" font-family=\"Helvetica,sans-Serif\" font-size=\"14.00\" fill=\"#000000\">LDL &lt;= 89.5</text>\n<text text-anchor=\"middle\" x=\"3448.5\" y=\"-126.8\" font-family=\"Helvetica,sans-Serif\" font-size=\"14.00\" fill=\"#000000\">samples = 7</text>\n<text text-anchor=\"middle\" x=\"3448.5\" y=\"-111.8\" font-family=\"Helvetica,sans-Serif\" font-size=\"14.00\" fill=\"#000000\">value = [4, 3]</text>\n<text text-anchor=\"middle\" x=\"3448.5\" y=\"-96.8\" font-family=\"Helvetica,sans-Serif\" font-size=\"14.00\" fill=\"#000000\">class = 정상</text>\n</g>\n<!-- 49&#45;&gt;53 -->\n<g id=\"edge53\" class=\"edge\">\n<title>49&#45;&gt;53</title>\n<path fill=\"none\" stroke=\"#000000\" d=\"M3404.7834,-192.9465C3410.2267,-184.2373 3416.1484,-174.7626 3421.825,-165.6801\"/>\n<polygon fill=\"#000000\" stroke=\"#000000\" points=\"3424.8367,-167.465 3427.1688,-157.13 3418.9007,-163.755 3424.8367,-167.465\"/>\n</g>\n<!-- 51 -->\n<g id=\"node52\" class=\"node\">\n<title>51</title>\n<polygon fill=\"#56abe9\" stroke=\"#000000\" points=\"3256.5,-53 3132.5,-53 3132.5,0 3256.5,0 3256.5,-53\"/>\n<text text-anchor=\"middle\" x=\"3194.5\" y=\"-37.8\" font-family=\"Helvetica,sans-Serif\" font-size=\"14.00\" fill=\"#000000\">samples = 188</text>\n<text text-anchor=\"middle\" x=\"3194.5\" y=\"-22.8\" font-family=\"Helvetica,sans-Serif\" font-size=\"14.00\" fill=\"#000000\">value = [24, 164]</text>\n<text text-anchor=\"middle\" x=\"3194.5\" y=\"-7.8\" font-family=\"Helvetica,sans-Serif\" font-size=\"14.00\" fill=\"#000000\">class = 비만</text>\n</g>\n<!-- 50&#45;&gt;51 -->\n<g id=\"edge51\" class=\"edge\">\n<title>50&#45;&gt;51</title>\n<path fill=\"none\" stroke=\"#000000\" d=\"M3274.7822,-88.9777C3262.5451,-79.4545 3249.2645,-69.1191 3237.0934,-59.6473\"/>\n<polygon fill=\"#000000\" stroke=\"#000000\" points=\"3238.9125,-56.628 3228.8711,-53.2485 3234.6134,-62.1523 3238.9125,-56.628\"/>\n</g>\n<!-- 52 -->\n<g id=\"node53\" class=\"node\">\n<title>52</title>\n<polygon fill=\"#e58139\" stroke=\"#000000\" points=\"3374,-53 3275,-53 3275,0 3374,0 3374,-53\"/>\n<text text-anchor=\"middle\" x=\"3324.5\" y=\"-37.8\" font-family=\"Helvetica,sans-Serif\" font-size=\"14.00\" fill=\"#000000\">samples = 1</text>\n<text text-anchor=\"middle\" x=\"3324.5\" y=\"-22.8\" font-family=\"Helvetica,sans-Serif\" font-size=\"14.00\" fill=\"#000000\">value = [1, 0]</text>\n<text text-anchor=\"middle\" x=\"3324.5\" y=\"-7.8\" font-family=\"Helvetica,sans-Serif\" font-size=\"14.00\" fill=\"#000000\">class = 정상</text>\n</g>\n<!-- 50&#45;&gt;52 -->\n<g id=\"edge52\" class=\"edge\">\n<title>50&#45;&gt;52</title>\n<path fill=\"none\" stroke=\"#000000\" d=\"M3320.6154,-88.9777C3321.1335,-80.6449 3321.6902,-71.6903 3322.2159,-63.2364\"/>\n<polygon fill=\"#000000\" stroke=\"#000000\" points=\"3325.7095,-63.4464 3322.8369,-53.2485 3318.723,-63.012 3325.7095,-63.4464\"/>\n</g>\n<!-- 54 -->\n<g id=\"node55\" class=\"node\">\n<title>54</title>\n<polygon fill=\"#399de5\" stroke=\"#000000\" points=\"3491,-53 3392,-53 3392,0 3491,0 3491,-53\"/>\n<text text-anchor=\"middle\" x=\"3441.5\" y=\"-37.8\" font-family=\"Helvetica,sans-Serif\" font-size=\"14.00\" fill=\"#000000\">samples = 2</text>\n<text text-anchor=\"middle\" x=\"3441.5\" y=\"-22.8\" font-family=\"Helvetica,sans-Serif\" font-size=\"14.00\" fill=\"#000000\">value = [0, 2]</text>\n<text text-anchor=\"middle\" x=\"3441.5\" y=\"-7.8\" font-family=\"Helvetica,sans-Serif\" font-size=\"14.00\" fill=\"#000000\">class = 비만</text>\n</g>\n<!-- 53&#45;&gt;54 -->\n<g id=\"edge54\" class=\"edge\">\n<title>53&#45;&gt;54</title>\n<path fill=\"none\" stroke=\"#000000\" d=\"M3446.0321,-88.9777C3445.4276,-80.6449 3444.778,-71.6903 3444.1648,-63.2364\"/>\n<polygon fill=\"#000000\" stroke=\"#000000\" points=\"3447.6547,-62.969 3443.4403,-53.2485 3440.6731,-63.4755 3447.6547,-62.969\"/>\n</g>\n<!-- 55 -->\n<g id=\"node56\" class=\"node\">\n<title>55</title>\n<polygon fill=\"#eca06a\" stroke=\"#000000\" points=\"3608,-53 3509,-53 3509,0 3608,0 3608,-53\"/>\n<text text-anchor=\"middle\" x=\"3558.5\" y=\"-37.8\" font-family=\"Helvetica,sans-Serif\" font-size=\"14.00\" fill=\"#000000\">samples = 5</text>\n<text text-anchor=\"middle\" x=\"3558.5\" y=\"-22.8\" font-family=\"Helvetica,sans-Serif\" font-size=\"14.00\" fill=\"#000000\">value = [4, 1]</text>\n<text text-anchor=\"middle\" x=\"3558.5\" y=\"-7.8\" font-family=\"Helvetica,sans-Serif\" font-size=\"14.00\" fill=\"#000000\">class = 정상</text>\n</g>\n<!-- 53&#45;&gt;55 -->\n<g id=\"edge55\" class=\"edge\">\n<title>53&#45;&gt;55</title>\n<path fill=\"none\" stroke=\"#000000\" d=\"M3487.2819,-88.9777C3498.033,-79.546 3509.6922,-69.3178 3520.4038,-59.9208\"/>\n<polygon fill=\"#000000\" stroke=\"#000000\" points=\"3522.8004,-62.4743 3528.0095,-53.2485 3518.184,-57.2122 3522.8004,-62.4743\"/>\n</g>\n<!-- 57 -->\n<g id=\"node58\" class=\"node\">\n<title>57</title>\n<polygon fill=\"#3fa0e6\" stroke=\"#000000\" points=\"3799.5,-157 3683.5,-157 3683.5,-89 3799.5,-89 3799.5,-157\"/>\n<text text-anchor=\"middle\" x=\"3741.5\" y=\"-141.8\" font-family=\"Helvetica,sans-Serif\" font-size=\"14.00\" fill=\"#000000\">BLDS &lt;= 80.5</text>\n<text text-anchor=\"middle\" x=\"3741.5\" y=\"-126.8\" font-family=\"Helvetica,sans-Serif\" font-size=\"14.00\" fill=\"#000000\">samples = 305</text>\n<text text-anchor=\"middle\" x=\"3741.5\" y=\"-111.8\" font-family=\"Helvetica,sans-Serif\" font-size=\"14.00\" fill=\"#000000\">value = [9, 296]</text>\n<text text-anchor=\"middle\" x=\"3741.5\" y=\"-96.8\" font-family=\"Helvetica,sans-Serif\" font-size=\"14.00\" fill=\"#000000\">class = 비만</text>\n</g>\n<!-- 56&#45;&gt;57 -->\n<g id=\"edge57\" class=\"edge\">\n<title>56&#45;&gt;57</title>\n<path fill=\"none\" stroke=\"#000000\" d=\"M3741.5,-192.9465C3741.5,-184.776 3741.5,-175.9318 3741.5,-167.3697\"/>\n<polygon fill=\"#000000\" stroke=\"#000000\" points=\"3745.0001,-167.13 3741.5,-157.13 3738.0001,-167.13 3745.0001,-167.13\"/>\n</g>\n<!-- 60 -->\n<g id=\"node61\" class=\"node\">\n<title>60</title>\n<polygon fill=\"#ffffff\" stroke=\"#000000\" points=\"3984.5,-157 3880.5,-157 3880.5,-89 3984.5,-89 3984.5,-157\"/>\n<text text-anchor=\"middle\" x=\"3932.5\" y=\"-141.8\" font-family=\"Helvetica,sans-Serif\" font-size=\"14.00\" fill=\"#000000\">LDL &lt;= 108.0</text>\n<text text-anchor=\"middle\" x=\"3932.5\" y=\"-126.8\" font-family=\"Helvetica,sans-Serif\" font-size=\"14.00\" fill=\"#000000\">samples = 2</text>\n<text text-anchor=\"middle\" x=\"3932.5\" y=\"-111.8\" font-family=\"Helvetica,sans-Serif\" font-size=\"14.00\" fill=\"#000000\">value = [1, 1]</text>\n<text text-anchor=\"middle\" x=\"3932.5\" y=\"-96.8\" font-family=\"Helvetica,sans-Serif\" font-size=\"14.00\" fill=\"#000000\">class = 정상</text>\n</g>\n<!-- 56&#45;&gt;60 -->\n<g id=\"edge60\" class=\"edge\">\n<title>56&#45;&gt;60</title>\n<path fill=\"none\" stroke=\"#000000\" d=\"M3803.5122,-193.2342C3825.3402,-181.3488 3849.8407,-168.0082 3871.578,-156.1722\"/>\n<polygon fill=\"#000000\" stroke=\"#000000\" points=\"3873.2825,-159.2294 3880.3912,-151.3734 3869.935,-153.0816 3873.2825,-159.2294\"/>\n</g>\n<!-- 58 -->\n<g id=\"node59\" class=\"node\">\n<title>58</title>\n<polygon fill=\"#6ab6ec\" stroke=\"#000000\" points=\"3730.5,-53 3626.5,-53 3626.5,0 3730.5,0 3730.5,-53\"/>\n<text text-anchor=\"middle\" x=\"3678.5\" y=\"-37.8\" font-family=\"Helvetica,sans-Serif\" font-size=\"14.00\" fill=\"#000000\">samples = 10</text>\n<text text-anchor=\"middle\" x=\"3678.5\" y=\"-22.8\" font-family=\"Helvetica,sans-Serif\" font-size=\"14.00\" fill=\"#000000\">value = [2, 8]</text>\n<text text-anchor=\"middle\" x=\"3678.5\" y=\"-7.8\" font-family=\"Helvetica,sans-Serif\" font-size=\"14.00\" fill=\"#000000\">class = 비만</text>\n</g>\n<!-- 57&#45;&gt;58 -->\n<g id=\"edge58\" class=\"edge\">\n<title>57&#45;&gt;58</title>\n<path fill=\"none\" stroke=\"#000000\" d=\"M3719.2886,-88.9777C3713.5496,-80.187 3707.3588,-70.7044 3701.5767,-61.8477\"/>\n<polygon fill=\"#000000\" stroke=\"#000000\" points=\"3704.3602,-59.7087 3695.9627,-53.2485 3698.4987,-63.5354 3704.3602,-59.7087\"/>\n</g>\n<!-- 59 -->\n<g id=\"node60\" class=\"node\">\n<title>59</title>\n<polygon fill=\"#3e9fe6\" stroke=\"#000000\" points=\"3864.5,-53 3748.5,-53 3748.5,0 3864.5,0 3864.5,-53\"/>\n<text text-anchor=\"middle\" x=\"3806.5\" y=\"-37.8\" font-family=\"Helvetica,sans-Serif\" font-size=\"14.00\" fill=\"#000000\">samples = 295</text>\n<text text-anchor=\"middle\" x=\"3806.5\" y=\"-22.8\" font-family=\"Helvetica,sans-Serif\" font-size=\"14.00\" fill=\"#000000\">value = [7, 288]</text>\n<text text-anchor=\"middle\" x=\"3806.5\" y=\"-7.8\" font-family=\"Helvetica,sans-Serif\" font-size=\"14.00\" fill=\"#000000\">class = 비만</text>\n</g>\n<!-- 57&#45;&gt;59 -->\n<g id=\"edge59\" class=\"edge\">\n<title>57&#45;&gt;59</title>\n<path fill=\"none\" stroke=\"#000000\" d=\"M3764.4166,-88.9777C3770.3994,-80.0954 3776.8582,-70.5067 3782.877,-61.5711\"/>\n<polygon fill=\"#000000\" stroke=\"#000000\" points=\"3785.7991,-63.4978 3788.4829,-53.2485 3779.9933,-59.5871 3785.7991,-63.4978\"/>\n</g>\n<!-- 61 -->\n<g id=\"node62\" class=\"node\">\n<title>61</title>\n<polygon fill=\"#399de5\" stroke=\"#000000\" points=\"3982,-53 3883,-53 3883,0 3982,0 3982,-53\"/>\n<text text-anchor=\"middle\" x=\"3932.5\" y=\"-37.8\" font-family=\"Helvetica,sans-Serif\" font-size=\"14.00\" fill=\"#000000\">samples = 1</text>\n<text text-anchor=\"middle\" x=\"3932.5\" y=\"-22.8\" font-family=\"Helvetica,sans-Serif\" font-size=\"14.00\" fill=\"#000000\">value = [0, 1]</text>\n<text text-anchor=\"middle\" x=\"3932.5\" y=\"-7.8\" font-family=\"Helvetica,sans-Serif\" font-size=\"14.00\" fill=\"#000000\">class = 비만</text>\n</g>\n<!-- 60&#45;&gt;61 -->\n<g id=\"edge61\" class=\"edge\">\n<title>60&#45;&gt;61</title>\n<path fill=\"none\" stroke=\"#000000\" d=\"M3932.5,-88.9777C3932.5,-80.7364 3932.5,-71.887 3932.5,-63.5153\"/>\n<polygon fill=\"#000000\" stroke=\"#000000\" points=\"3936.0001,-63.2484 3932.5,-53.2485 3929.0001,-63.2485 3936.0001,-63.2484\"/>\n</g>\n<!-- 62 -->\n<g id=\"node63\" class=\"node\">\n<title>62</title>\n<polygon fill=\"#e58139\" stroke=\"#000000\" points=\"4099,-53 4000,-53 4000,0 4099,0 4099,-53\"/>\n<text text-anchor=\"middle\" x=\"4049.5\" y=\"-37.8\" font-family=\"Helvetica,sans-Serif\" font-size=\"14.00\" fill=\"#000000\">samples = 1</text>\n<text text-anchor=\"middle\" x=\"4049.5\" y=\"-22.8\" font-family=\"Helvetica,sans-Serif\" font-size=\"14.00\" fill=\"#000000\">value = [1, 0]</text>\n<text text-anchor=\"middle\" x=\"4049.5\" y=\"-7.8\" font-family=\"Helvetica,sans-Serif\" font-size=\"14.00\" fill=\"#000000\">class = 정상</text>\n</g>\n<!-- 60&#45;&gt;62 -->\n<g id=\"edge62\" class=\"edge\">\n<title>60&#45;&gt;62</title>\n<path fill=\"none\" stroke=\"#000000\" d=\"M3973.7498,-88.9777C3985.2961,-79.4545 3997.8271,-69.1191 4009.311,-59.6473\"/>\n<polygon fill=\"#000000\" stroke=\"#000000\" points=\"4011.5816,-62.3115 4017.0692,-53.2485 4007.1276,-56.9113 4011.5816,-62.3115\"/>\n</g>\n</g>\n</svg>\n"
          },
          "metadata": {}
        }
      ]
    },
    {
      "cell_type": "markdown",
      "source": [
        "##변수 중요도 시각화"
      ],
      "metadata": {
        "id": "tUgPHsHG77YB"
      }
    },
    {
      "cell_type": "code",
      "source": [
        "import numpy as np\n",
        "import matplotlib.pyplot as plt\n",
        "\n",
        "def plot_feature_importances(model):\n",
        "    plt.rcParams[\"figure.figsize\"] = (9,6)\n",
        "    n_features = len(health.columns[1:])\n",
        "    plt.barh(np.arange(n_features), model.feature_importances_, align='center')\n",
        "    plt.yticks(np.arange(n_features), health.columns[1:])\n",
        "    plt.xlabel(\"feature importance\")\n",
        "    plt.ylabel(\"feature\")\n",
        "    plt.ylim(-1, n_features)\n",
        "\n",
        "plot_feature_importances(tree)"
      ],
      "metadata": {
        "colab": {
          "base_uri": "https://localhost:8080/",
          "height": 388
        },
        "id": "cWa70wLm79T0",
        "outputId": "9227704e-f6e0-4198-85fb-276e4a0c0ee7"
      },
      "execution_count": null,
      "outputs": [
        {
          "output_type": "display_data",
          "data": {
            "text/plain": [
              "<Figure size 648x432 with 1 Axes>"
            ],
            "image/png": "[encoded data removed]"
          },
          "metadata": {
            "needs_background": "light"
          }
        }
      ]
    },
    {
      "cell_type": "markdown",
      "source": [
        "##Insight\n",
        "가장 중요도가 높은 변수는 허리둘레이고, 그 다음으로 성별, HDL콜레스테롤수치, 수축기혈압 순으로 중요도가 높았다.  \n",
        "복부비만을 판정할 때 허리둘레를 사용하기 때문에 실제 비만도 예측에서도 가장 중요한 변수로 작용하는 것으로 판단된다. 그리고 이전 시각화 과제에서는 성별과 비만도 사이의 연관성은 파악해보지 않았는데, 성별이 두 번째로 중요한 변수인 것으로 나타났다. 실제로 성별에 따른 신장차이와 체질량지수의 차이로 인해 비만유무에도 어느 정도의 성별 영향이 있음을 알게 되었고, 분류모델에서도 이같은 차이가 나타난 것으로 판단된다."
      ],
      "metadata": {
        "id": "nRjFzl4N-fq-"
      }
    },
    {
      "cell_type": "markdown",
      "source": [
        "#4. 분류 모델2: 랜덤포레스트\n",
        "랜덤포레스트를 이용한 분류 모델 생성."
      ],
      "metadata": {
        "id": "mawG-lgCBTs7"
      }
    },
    {
      "cell_type": "code",
      "source": [
        "from sklearn.ensemble import RandomForestClassifier\n",
        "\n",
        "forest = RandomForestClassifier(n_estimators=100, random_state=0)\n",
        "forest.fit(X_train, y_train)\n",
        "\n",
        "print(\"학습용 데이터 세트 정확도: {:.3f}\".format(forest.score(X_train, y_train)))\n",
        "print(\"시험용 데이터 세트 정확도: {:.3f}\".format(forest.score(X_test, y_test)))"
      ],
      "metadata": {
        "colab": {
          "base_uri": "https://localhost:8080/"
        },
        "id": "pP-30eRkB_uj",
        "outputId": "a6fa088e-781b-4215-af94-1995e87d6a31"
      },
      "execution_count": null,
      "outputs": [
        {
          "output_type": "stream",
          "name": "stdout",
          "text": [
            "학습용 데이터 세트 정확도: 1.000\n",
            "시험용 데이터 세트 정확도: 0.805\n"
          ]
        }
      ]
    },
    {
      "cell_type": "markdown",
      "source": [
        "## 변수 중요도 시각화"
      ],
      "metadata": {
        "id": "hRvMXAuBFR2n"
      }
    },
    {
      "cell_type": "code",
      "source": [
        "plot_feature_importances(forest)"
      ],
      "metadata": {
        "colab": {
          "base_uri": "https://localhost:8080/",
          "height": 388
        },
        "id": "rC9avj5HDRn1",
        "outputId": "0adbd6c9-65ec-4811-eb92-e90355d2264c"
      },
      "execution_count": null,
      "outputs": [
        {
          "output_type": "display_data",
          "data": {
            "text/plain": [
              "<Figure size 648x432 with 1 Axes>"
            ],
            "image/png": "[encoded data removed]"
          },
          "metadata": {
            "needs_background": "light"
          }
        }
      ]
    },
    {
      "cell_type": "markdown",
      "source": [
        "## Insight\n",
        "의사결정나무보다 랜덤포레스트 모델이 정확도가 더 높은 것을 확인할 수 있고, 변수들이 다양하게 사용되면서 각 변수들의 중요도가 높아진 것도 볼 수 있다.  \n",
        "여전히 허리둘레가 가장 중요한 변수인 것으로 나타났고, 그 다음으로 HDL 콜레스테롤과 LDL콜레스테롤의 중요도가 높았다.비만인 경우 이상지질혈증이 나타날 위험이 높은데, 이는 HDL콜레스테롤이 일정 수치 아래로 떨어지거나 LDL콜레스테롤이 일정 수치 이상으로 증가하면 발생한다. 그래서 HDL과 LDL가 비만유무를 예측하는데에도 큰 영향을 주는 것으로 생각된다."
      ],
      "metadata": {
        "id": "RRyAecPODjwD"
      }
    },
    {
      "cell_type": "markdown",
      "source": [
        "# 5. 분류 모델3: 그래디언트 부스팅"
      ],
      "metadata": {
        "id": "Yn3cGsRwyMIG"
      }
    },
    {
      "cell_type": "code",
      "source": [
        "from sklearn.ensemble import GradientBoostingClassifier\n",
        "\n",
        "gbrt = GradientBoostingClassifier(random_state=0)\n",
        "gbrt.fit(X_train, y_train)\n",
        "\n",
        "print(\"학습용 데이터 세트 정확도: {:.3f}\".format(gbrt.score(X_train, y_train)))\n",
        "print(\"시험용 데이터 세트 정확도: {:.3f}\".format(gbrt.score(X_test, y_test)))"
      ],
      "metadata": {
        "id": "bvp989-eH7xu",
        "colab": {
          "base_uri": "https://localhost:8080/"
        },
        "outputId": "25e9dbbf-55ec-4230-cda3-e7cb669a9111"
      },
      "execution_count": null,
      "outputs": [
        {
          "output_type": "stream",
          "name": "stdout",
          "text": [
            "학습용 데이터 세트 정확도: 0.849\n",
            "시험용 데이터 세트 정확도: 0.802\n"
          ]
        }
      ]
    },
    {
      "cell_type": "code",
      "source": [
        "# 시험용 데이터의 정확도를 높이기 위해 max_depth를 줄인 모델\n",
        "gbrt = GradientBoostingClassifier(random_state=0, max_depth=2)\n",
        "gbrt.fit(X_train, y_train)\n",
        "\n",
        "print(\"학습 데이터 세트 정확도: {:.3f}\".format(gbrt.score(X_train, y_train)))\n",
        "print(\"시험용 데이터 세트 정확도: {:.3f}\".format(gbrt.score(X_test, y_test)))"
      ],
      "metadata": {
        "colab": {
          "base_uri": "https://localhost:8080/"
        },
        "id": "KwJcxLdCzvnz",
        "outputId": "d14884f0-31f8-4210-be35-45cf996aa638"
      },
      "execution_count": null,
      "outputs": [
        {
          "output_type": "stream",
          "name": "stdout",
          "text": [
            "학습 데이터 세트 정확도: 0.833\n",
            "시험용 데이터 세트 정확도: 0.805\n"
          ]
        }
      ]
    },
    {
      "cell_type": "markdown",
      "source": [
        "## 변수 중요도 시각화"
      ],
      "metadata": {
        "id": "9l_kqnQp0GuJ"
      }
    },
    {
      "cell_type": "code",
      "source": [
        "plot_feature_importances(gbrt)"
      ],
      "metadata": {
        "colab": {
          "base_uri": "https://localhost:8080/",
          "height": 388
        },
        "id": "u38SvAIv3wdB",
        "outputId": "e01303e2-4880-4d6a-8b9d-51590f3edfe9"
      },
      "execution_count": null,
      "outputs": [
        {
          "output_type": "display_data",
          "data": {
            "text/plain": [
              "<Figure size 648x432 with 1 Axes>"
            ],
            "image/png": "[encoded data removed]"
          },
          "metadata": {
            "needs_background": "light"
          }
        }
      ]
    },
    {
      "cell_type": "markdown",
      "source": [
        "## Insight\n",
        "그래디언트 부스팅 모델의 max_depth를 2로 변경함으로써 랜덤포레스트 모델과 같은 정확도를 가지게 되었다. 그러나 각 변수의 중요도는 의사결정나무와 비슷하게 나타났다.  \n",
        "여기서도 마찬가지로 허리둘레가 가장 중요한 변수임을 확인할 수 있었고, 그 뒤로 성별, HDL, LDL 콜레스테롤 수치가 중요함을 알 수 있다. 이 역시 복부비만에 영향을 주는 요인과 비만으로 인한 이상지질혈증 문제로 인한 결과인 것으로 판단된다."
      ],
      "metadata": {
        "id": "CrqzCrc44U79"
      }
    },
    {
      "cell_type": "markdown",
      "source": [
        "# 6. 최적의 분류 모델 선택\n"
      ],
      "metadata": {
        "id": "j3LY_5ma7YoP"
      }
    },
    {
      "cell_type": "code",
      "source": [
        "from sklearn.metrics import accuracy_score, precision_score, recall_score, f1_score\n",
        "from sklearn.metrics import confusion_matrix \n",
        "\n",
        "print(y_test.value_counts())\n",
        "\n",
        "dt_pred = tree.predict(X_test)\n",
        "rf_pred = forest.predict(X_test)\n",
        "gbrt_pred = gbrt.predict(X_test)\n",
        "\n",
        "print('Decision tree 시험용 데이터 세트 정확도:{:.3f}'.format(accuracy_score(y_test, dt_pred)))\n",
        "print(confusion_matrix(y_test, dt_pred))\n",
        "print('Random forest 시험용 데이터 세트 정확도:{:.3f}'.format(accuracy_score(y_test, rf_pred)))\n",
        "print(confusion_matrix(y_test, rf_pred))\n",
        "print('Gradient boosting 시험용 데이터 세트 정확도:{:.3f}'.format(accuracy_score(y_test, gbrt_pred)))\n",
        "print(confusion_matrix(y_test, gbrt_pred))"
      ],
      "metadata": {
        "colab": {
          "base_uri": "https://localhost:8080/"
        },
        "id": "p5Q43UpH8-HU",
        "outputId": "0dd0fea1-8912-41ce-90a4-96ad1bdbc72c"
      },
      "execution_count": null,
      "outputs": [
        {
          "output_type": "stream",
          "name": "stdout",
          "text": [
            "0    601\n",
            "1    394\n",
            "Name: obesity, dtype: int64\n",
            "Decision tree 시험용 데이터 세트 정확도:0.798\n",
            "[[510  91]\n",
            " [110 284]]\n",
            "Random forest 시험용 데이터 세트 정확도:0.805\n",
            "[[537  64]\n",
            " [130 264]]\n",
            "Gradient boosting 시험용 데이터 세트 정확도:0.805\n",
            "[[539  62]\n",
            " [132 262]]\n"
          ]
        }
      ]
    },
    {
      "cell_type": "code",
      "source": [
        "print('정밀도:{:.3f}'.format(precision_score (y_test, dt_pred, average='binary')))\n",
        "print('TP (284) / TP+FP (375) = {:.3f}'.format(284/375))\n",
        "print('재현율:{:.3f}'.format(recall_score(y_test, dt_pred, average='binary')))\n",
        "print('TP (284) / TP+FN (394) = {:.3f}'.format(284/394))"
      ],
      "metadata": {
        "colab": {
          "base_uri": "https://localhost:8080/"
        },
        "id": "uL99Mdd1_tI4",
        "outputId": "a020008f-468c-4c69-8e67-c56f340f4262"
      },
      "execution_count": null,
      "outputs": [
        {
          "output_type": "stream",
          "name": "stdout",
          "text": [
            "정밀도:0.757\n",
            "TP (284) / TP+FP (375) = 0.757\n",
            "재현율:0.721\n",
            "TP (284) / TP+FN (394) = 0.721\n"
          ]
        }
      ]
    },
    {
      "cell_type": "code",
      "source": [
        "print('정밀도:{:.3f}'.format(precision_score (y_test, rf_pred, average='binary')))\n",
        "print('TP (264) / TP+FP (328) = {:.3f}'.format(264/328))\n",
        "print('재현율:{:.3f}'.format(recall_score(y_test, rf_pred, average='binary')))\n",
        "print('TP (264) / TP+FN (394) = {:.3f}'.format(264/394))"
      ],
      "metadata": {
        "colab": {
          "base_uri": "https://localhost:8080/"
        },
        "id": "XtkBCvn-_T9b",
        "outputId": "6a2058b3-2a02-4ee7-f8dc-2e34a5439701"
      },
      "execution_count": null,
      "outputs": [
        {
          "output_type": "stream",
          "name": "stdout",
          "text": [
            "정밀도:0.805\n",
            "TP (264) / TP+FP (328) = 0.805\n",
            "재현율:0.670\n",
            "TP (264) / TP+FN (394) = 0.670\n"
          ]
        }
      ]
    },
    {
      "cell_type": "code",
      "source": [
        "print('정밀도:{:.3f}'.format(precision_score (y_test, gbrt_pred, average='binary')))\n",
        "print('TP (262) / TP+FP (324) = {:.3f}'.format(262/324))\n",
        "print('재현율:{:.3f}'.format(recall_score(y_test, gbrt_pred, average='binary')))\n",
        "print('TP (262) / TP+FN (394) = {:.3f}'.format(262/394))"
      ],
      "metadata": {
        "colab": {
          "base_uri": "https://localhost:8080/"
        },
        "id": "jqH4RALF9VaJ",
        "outputId": "da7e481c-5109-41c5-8b1f-9d904abc0c5c"
      },
      "execution_count": null,
      "outputs": [
        {
          "output_type": "stream",
          "name": "stdout",
          "text": [
            "정밀도:0.809\n",
            "TP (262) / TP+FP (324) = 0.809\n",
            "재현율:0.665\n",
            "TP (262) / TP+FN (394) = 0.665\n"
          ]
        }
      ]
    },
    {
      "cell_type": "markdown",
      "source": [
        "최적의 분류 모델을 선정하기 위해 confusion matrix를 그리고, 각 모델의 정밀도와 재현율을 계산하였다. 비만이라고 예측한 사람이 실제 비만인 경우(정밀도)와 실제 비만인 사람을 비만으로 예측한 경우(재현율, 민감도) 둘의 비용을 비교해 본다면 사실 어느 경우가 비용이 더 크다고 확실하게 말할 수는 없을 것 같다. 그래도 비만 역시 건강과 관련된 문제이고, 지금 당장은 심각한 문제가 발생하지 않아도 당뇨병, 이상지질혈증 등 다른 건강상 문제를 일으킬 수 있기 때문에 민감도(재현율)가 더 중요하다고 판단했다.\n",
        "\n",
        "\n",
        "그래서 민감도를 기준으로 최적의 모델을 선정하자면 의사결정나무 모델이 정확도는 낮지만 민감도가 가장 높기 때문에 의사결정나무 모델을 최적의 모델로 선정할 수 있다."
      ],
      "metadata": {
        "id": "amVRaNnFALZp"
      }
    }
  ]
}